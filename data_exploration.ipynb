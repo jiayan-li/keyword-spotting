{
 "cells": [
  {
   "cell_type": "markdown",
   "metadata": {},
   "source": [
    "https://github.com/philipperemy/timit"
   ]
  },
  {
   "cell_type": "markdown",
   "metadata": {},
   "source": [
    "https://www.kaggle.com/datasets/mfekadu/darpa-timit-acousticphonetic-continuous-speech?resource=download\n",
    "\n",
    "https://www.kaggle.com/code/julwan/phoneme-recognition-with-wav2vec2"
   ]
  },
  {
   "cell_type": "markdown",
   "metadata": {},
   "source": [
    "wav2vec seems like a common transformer model for speech recognition. "
   ]
  },
  {
   "cell_type": "markdown",
   "metadata": {},
   "source": [
    "630 speakers, each read 10 sentences—2 dialect \"shibboleth\" sentences (SA), 5 phonetically compact sentences (SX), and 3 phonetically diverse sentences (SI).\n",
    "\n",
    "- SA: expose the dialectal variants of the speakers.\n",
    "- SX: provide a good coverage of pairs of phones, with extra occurrences of phonetic contexts thought to be either difficult or of particular interest.\n",
    "- SI: add diversity in sentence types and phonetic contexts.\n",
    "\n"
   ]
  },
  {
   "cell_type": "markdown",
   "metadata": {},
   "source": [
    "| Sentence Type | #Sentences | #Speakers | Total | #Sentences/Speaker |\n",
    "|---------------|------------|-----------|-------|--------------------|\n",
    "| Dialect (SA)  |      2     |    630    | 1260  |         2          |\n",
    "| Compact (SX)  |     450    |     7     | 3150  |         5          |\n",
    "| Diverse (SI)  |    1890    |     1     | 1890  |         3          |\n",
    "|---------------|------------|-----------|-------|--------------------|\n",
    "| Total         |    2342    |           | 6300  |        10          |\n"
   ]
  },
  {
   "cell_type": "markdown",
   "metadata": {},
   "source": [
    "| Dialect Region (dr) | #Male   | #Female  | Total   |\n",
    "|----------------------|---------|----------|---------|\n",
    "|         1            | 31 (63%)| 18 (27%) | 49 (8%) |\n",
    "|         2            | 71 (70%)| 31 (30%) |102(16%)|\n",
    "|         3            | 79 (67%)| 23 (23%) |102(16%)|\n",
    "|         4            | 69 (69%)| 31 (31%) |100(16%)|\n",
    "|         5            | 62 (63%)| 36 (37%) | 98(16%)|\n",
    "|         6            | 30 (65%)| 16 (35%) | 46 (7%)|\n",
    "|         7            | 74 (74%)| 26 (26%) |100(16%)|\n",
    "|         8            | 22 (67%)| 11 (33%) | 33 (5%)|\n",
    "|----------------------|---------|----------|---------|\n",
    "|        Total         | 438(70%)|192(30%)  |630(100%)|\n",
    "\n",
    "The dialect regions are:\n",
    "   dr1: New England\n",
    "   dr2: Northern\n",
    "   dr3: North Midland\n",
    "   dr4: South Midland\n",
    "   dr5: Southern\n",
    "   dr6: New York City\n",
    "   dr7: Western\n",
    "   dr8: Army Brat (moved around)\n"
   ]
  },
  {
   "cell_type": "markdown",
   "metadata": {},
   "source": [
    "For each utterance, the following information is available:\n",
    "- .wav file: the speech waveform.\n",
    "- .phn file: Time-aligned phonetic transcription.\n",
    "- .wrd file: Time-aligned word transcription.\n",
    "- .txt file: Associated orthographic transcription of the words the\n",
    "            person said."
   ]
  },
  {
   "cell_type": "code",
   "execution_count": 150,
   "metadata": {},
   "outputs": [
    {
     "name": "stdout",
     "output_type": "stream",
     "text": [
      "The autoreload extension is already loaded. To reload it, use:\n",
      "  %reload_ext autoreload\n"
     ]
    }
   ],
   "source": [
    "%load_ext autoreload\n",
    "%autoreload 2"
   ]
  },
  {
   "cell_type": "code",
   "execution_count": 151,
   "metadata": {},
   "outputs": [],
   "source": [
    "import glob\n",
    "import librosa\n",
    "import pandas as pd\n",
    "\n",
    "# custum modules\n",
    "from data_utils import *"
   ]
  },
  {
   "cell_type": "markdown",
   "metadata": {},
   "source": [
    "ideal data structure:\n",
    "``` python\n",
    "data = {\n",
    "    \"document1\": {\n",
    "        \"word\": pd.DataFrame, \n",
    "        \"phoneme\": pd.DataFrame}\n",
    "    ,\n",
    "    \"document2\": {\n",
    "        \"word\": pd.DataFrame,\n",
    "        \"phoneme\": pd.DataFrame\n",
    "    }\n",
    "}\n",
    "```"
   ]
  },
  {
   "cell_type": "markdown",
   "metadata": {},
   "source": [
    "## Load phoneme, word, and transcript data"
   ]
  },
  {
   "cell_type": "code",
   "execution_count": 193,
   "metadata": {},
   "outputs": [
    {
     "data": {
      "text/plain": [
       "['timit/data/TRAIN/DR4/MGAG0/SX61.TXT',\n",
       " 'timit/data/TRAIN/DR4/MGAG0/SX61.WAV',\n",
       " 'timit/data/TRAIN/DR4/MGAG0/SX61.PHN',\n",
       " 'timit/data/TRAIN/DR4/MGAG0/SX61.WRD',\n",
       " 'timit/data/TRAIN/DR4/MGAG0/SX61.WAV.wav']"
      ]
     },
     "execution_count": 193,
     "metadata": {},
     "output_type": "execute_result"
    }
   ],
   "source": [
    "# sx61\n",
    "glob.glob('timit/data/TRAIN/DR4/MGAG0/SX61.*')"
   ]
  },
  {
   "cell_type": "code",
   "execution_count": 194,
   "metadata": {},
   "outputs": [
    {
     "data": {
      "text/html": [
       "<div>\n",
       "<style scoped>\n",
       "    .dataframe tbody tr th:only-of-type {\n",
       "        vertical-align: middle;\n",
       "    }\n",
       "\n",
       "    .dataframe tbody tr th {\n",
       "        vertical-align: top;\n",
       "    }\n",
       "\n",
       "    .dataframe thead th {\n",
       "        text-align: right;\n",
       "    }\n",
       "</style>\n",
       "<table border=\"1\" class=\"dataframe\">\n",
       "  <thead>\n",
       "    <tr style=\"text-align: right;\">\n",
       "      <th></th>\n",
       "      <th>start_sample</th>\n",
       "      <th>end_sample</th>\n",
       "      <th>phoneme</th>\n",
       "      <th>diff_sample</th>\n",
       "    </tr>\n",
       "  </thead>\n",
       "  <tbody>\n",
       "    <tr>\n",
       "      <th>32</th>\n",
       "      <td>36940</td>\n",
       "      <td>39000</td>\n",
       "      <td>ih</td>\n",
       "      <td>2060</td>\n",
       "    </tr>\n",
       "    <tr>\n",
       "      <th>33</th>\n",
       "      <td>39000</td>\n",
       "      <td>40200</td>\n",
       "      <td>f</td>\n",
       "      <td>1200</td>\n",
       "    </tr>\n",
       "    <tr>\n",
       "      <th>34</th>\n",
       "      <td>40200</td>\n",
       "      <td>40960</td>\n",
       "      <td>tcl</td>\n",
       "      <td>760</td>\n",
       "    </tr>\n",
       "    <tr>\n",
       "      <th>35</th>\n",
       "      <td>40960</td>\n",
       "      <td>41720</td>\n",
       "      <td>t</td>\n",
       "      <td>760</td>\n",
       "    </tr>\n",
       "    <tr>\n",
       "      <th>36</th>\n",
       "      <td>41720</td>\n",
       "      <td>43680</td>\n",
       "      <td>h#</td>\n",
       "      <td>1960</td>\n",
       "    </tr>\n",
       "  </tbody>\n",
       "</table>\n",
       "</div>"
      ],
      "text/plain": [
       "    start_sample  end_sample phoneme  diff_sample\n",
       "32         36940       39000      ih         2060\n",
       "33         39000       40200       f         1200\n",
       "34         40200       40960     tcl          760\n",
       "35         40960       41720       t          760\n",
       "36         41720       43680      h#         1960"
      ]
     },
     "execution_count": 194,
     "metadata": {},
     "output_type": "execute_result"
    }
   ],
   "source": [
    "# phoneme\n",
    "df_phoneme = load_data(glob.glob('timit/data/TRAIN/DR4/MGAG0/SX61.PHN')[0], \"phoneme\")\n",
    "df_phoneme.tail()"
   ]
  },
  {
   "cell_type": "code",
   "execution_count": 195,
   "metadata": {},
   "outputs": [
    {
     "data": {
      "text/html": [
       "<div>\n",
       "<style scoped>\n",
       "    .dataframe tbody tr th:only-of-type {\n",
       "        vertical-align: middle;\n",
       "    }\n",
       "\n",
       "    .dataframe tbody tr th {\n",
       "        vertical-align: top;\n",
       "    }\n",
       "\n",
       "    .dataframe thead th {\n",
       "        text-align: right;\n",
       "    }\n",
       "</style>\n",
       "<table border=\"1\" class=\"dataframe\">\n",
       "  <thead>\n",
       "    <tr style=\"text-align: right;\">\n",
       "      <th></th>\n",
       "      <th>start_sample</th>\n",
       "      <th>end_sample</th>\n",
       "      <th>word</th>\n",
       "      <th>diff_sample</th>\n",
       "    </tr>\n",
       "  </thead>\n",
       "  <tbody>\n",
       "    <tr>\n",
       "      <th>4</th>\n",
       "      <td>20305</td>\n",
       "      <td>26520</td>\n",
       "      <td>fail</td>\n",
       "      <td>6215</td>\n",
       "    </tr>\n",
       "    <tr>\n",
       "      <th>5</th>\n",
       "      <td>26520</td>\n",
       "      <td>28393</td>\n",
       "      <td>as</td>\n",
       "      <td>1873</td>\n",
       "    </tr>\n",
       "    <tr>\n",
       "      <th>6</th>\n",
       "      <td>28393</td>\n",
       "      <td>29033</td>\n",
       "      <td>a</td>\n",
       "      <td>640</td>\n",
       "    </tr>\n",
       "    <tr>\n",
       "      <th>7</th>\n",
       "      <td>29033</td>\n",
       "      <td>36280</td>\n",
       "      <td>romantic</td>\n",
       "      <td>7247</td>\n",
       "    </tr>\n",
       "    <tr>\n",
       "      <th>8</th>\n",
       "      <td>36280</td>\n",
       "      <td>41720</td>\n",
       "      <td>gift</td>\n",
       "      <td>5440</td>\n",
       "    </tr>\n",
       "  </tbody>\n",
       "</table>\n",
       "</div>"
      ],
      "text/plain": [
       "   start_sample  end_sample      word  diff_sample\n",
       "4         20305       26520      fail         6215\n",
       "5         26520       28393        as         1873\n",
       "6         28393       29033         a          640\n",
       "7         29033       36280  romantic         7247\n",
       "8         36280       41720      gift         5440"
      ]
     },
     "execution_count": 195,
     "metadata": {},
     "output_type": "execute_result"
    }
   ],
   "source": [
    "# word\n",
    "df_word = load_data(glob.glob('timit/data/TRAIN/DR4/MGAG0/SX61.WRD')[0], \"word\")\n",
    "df_word.tail()"
   ]
  },
  {
   "cell_type": "code",
   "execution_count": 196,
   "metadata": {},
   "outputs": [
    {
     "data": {
      "text/html": [
       "<div>\n",
       "<style scoped>\n",
       "    .dataframe tbody tr th:only-of-type {\n",
       "        vertical-align: middle;\n",
       "    }\n",
       "\n",
       "    .dataframe tbody tr th {\n",
       "        vertical-align: top;\n",
       "    }\n",
       "\n",
       "    .dataframe thead th {\n",
       "        text-align: right;\n",
       "    }\n",
       "</style>\n",
       "<table border=\"1\" class=\"dataframe\">\n",
       "  <thead>\n",
       "    <tr style=\"text-align: right;\">\n",
       "      <th></th>\n",
       "      <th>start_sample</th>\n",
       "      <th>end_sample</th>\n",
       "      <th>transcript</th>\n",
       "      <th>diff_sample</th>\n",
       "    </tr>\n",
       "  </thead>\n",
       "  <tbody>\n",
       "    <tr>\n",
       "      <th>0</th>\n",
       "      <td>0</td>\n",
       "      <td>43725</td>\n",
       "      <td>Chocolate and roses never fail as a romantic g...</td>\n",
       "      <td>43725</td>\n",
       "    </tr>\n",
       "  </tbody>\n",
       "</table>\n",
       "</div>"
      ],
      "text/plain": [
       "   start_sample  end_sample  \\\n",
       "0             0       43725   \n",
       "\n",
       "                                          transcript  diff_sample  \n",
       "0  Chocolate and roses never fail as a romantic g...        43725  "
      ]
     },
     "execution_count": 196,
     "metadata": {},
     "output_type": "execute_result"
    }
   ],
   "source": [
    "df_transcript = load_transcript('timit/data/TRAIN/DR4/MGAG0/SX61.TXT')\n",
    "df_transcript.tail()"
   ]
  },
  {
   "cell_type": "markdown",
   "metadata": {},
   "source": [
    "## MFCC\n",
    "Note that we can always use smaller `win_length` and `hop_length` for more fine-grained alignment.\n",
    "\n",
    "if we choose 25ms window and 5ms hop, we can have $25 * 10^-3 * 16000 = 400$ `win_length` and $5 * 10^-3 * 16000 = 80$ `hop_length`."
   ]
  },
  {
   "cell_type": "markdown",
   "metadata": {},
   "source": [
    "https://librosa.org/doc/main/generated/librosa.feature.mfcc.html#librosa.feature.mfcc"
   ]
  },
  {
   "cell_type": "code",
   "execution_count": 202,
   "metadata": {},
   "outputs": [
    {
     "data": {
      "text/html": [
       "<div>\n",
       "<style scoped>\n",
       "    .dataframe tbody tr th:only-of-type {\n",
       "        vertical-align: middle;\n",
       "    }\n",
       "\n",
       "    .dataframe tbody tr th {\n",
       "        vertical-align: top;\n",
       "    }\n",
       "\n",
       "    .dataframe thead th {\n",
       "        text-align: right;\n",
       "    }\n",
       "</style>\n",
       "<table border=\"1\" class=\"dataframe\">\n",
       "  <thead>\n",
       "    <tr style=\"text-align: right;\">\n",
       "      <th></th>\n",
       "      <th>start_sample</th>\n",
       "      <th>end_sample</th>\n",
       "      <th>mfcc</th>\n",
       "    </tr>\n",
       "  </thead>\n",
       "  <tbody>\n",
       "    <tr>\n",
       "      <th>541</th>\n",
       "      <td>43280</td>\n",
       "      <td>43680</td>\n",
       "      <td>[-827.1031, 32.212986, 10.357775, 4.273916, -7...</td>\n",
       "    </tr>\n",
       "    <tr>\n",
       "      <th>542</th>\n",
       "      <td>43360</td>\n",
       "      <td>43760</td>\n",
       "      <td>[-833.8036, 18.833408, 6.527279, 11.398876, 0....</td>\n",
       "    </tr>\n",
       "    <tr>\n",
       "      <th>543</th>\n",
       "      <td>43440</td>\n",
       "      <td>43840</td>\n",
       "      <td>[-845.2821, 3.8058267, 1.8199315, 11.270794, 5...</td>\n",
       "    </tr>\n",
       "    <tr>\n",
       "      <th>544</th>\n",
       "      <td>43520</td>\n",
       "      <td>43920</td>\n",
       "      <td>[-847.30914, 4.7726836, 6.2668734, 6.074581, 8...</td>\n",
       "    </tr>\n",
       "    <tr>\n",
       "      <th>545</th>\n",
       "      <td>43600</td>\n",
       "      <td>44000</td>\n",
       "      <td>[-847.56964, 9.320388, 15.307094, 7.9442987, 1...</td>\n",
       "    </tr>\n",
       "  </tbody>\n",
       "</table>\n",
       "</div>"
      ],
      "text/plain": [
       "     start_sample  end_sample  \\\n",
       "541         43280       43680   \n",
       "542         43360       43760   \n",
       "543         43440       43840   \n",
       "544         43520       43920   \n",
       "545         43600       44000   \n",
       "\n",
       "                                                  mfcc  \n",
       "541  [-827.1031, 32.212986, 10.357775, 4.273916, -7...  \n",
       "542  [-833.8036, 18.833408, 6.527279, 11.398876, 0....  \n",
       "543  [-845.2821, 3.8058267, 1.8199315, 11.270794, 5...  \n",
       "544  [-847.30914, 4.7726836, 6.2668734, 6.074581, 8...  \n",
       "545  [-847.56964, 9.320388, 15.307094, 7.9442987, 1...  "
      ]
     },
     "execution_count": 202,
     "metadata": {},
     "output_type": "execute_result"
    }
   ],
   "source": [
    "df_mfcc = process_audio_file('timit/data/TRAIN/DR4/MGAG0/SX61.WAV',\n",
    "                             win_length=400, \n",
    "                             hop_length=80)\n",
    "df_mfcc.tail()"
   ]
  },
  {
   "cell_type": "code",
   "execution_count": 203,
   "metadata": {},
   "outputs": [
    {
     "data": {
      "text/plain": [
       "(546, 3)"
      ]
     },
     "execution_count": 203,
     "metadata": {},
     "output_type": "execute_result"
    }
   ],
   "source": [
    "df_mfcc.shape"
   ]
  },
  {
   "cell_type": "code",
   "execution_count": 204,
   "metadata": {},
   "outputs": [
    {
     "data": {
      "text/plain": [
       "0.025"
      ]
     },
     "execution_count": 204,
     "metadata": {},
     "output_type": "execute_result"
    }
   ],
   "source": [
    "400/16000"
   ]
  },
  {
   "cell_type": "code",
   "execution_count": 205,
   "metadata": {},
   "outputs": [
    {
     "data": {
      "text/plain": [
       "0.005"
      ]
     },
     "execution_count": 205,
     "metadata": {},
     "output_type": "execute_result"
    }
   ],
   "source": [
    "80/16000"
   ]
  },
  {
   "cell_type": "markdown",
   "metadata": {},
   "source": [
    "### draft/explanation"
   ]
  },
  {
   "cell_type": "markdown",
   "metadata": {},
   "source": [
    "y: total number of samples\n",
    "\n",
    "sr: number of samples per second"
   ]
  },
  {
   "cell_type": "code",
   "execution_count": null,
   "metadata": {},
   "outputs": [
    {
     "data": {
      "text/plain": [
       "((43725,), 16000)"
      ]
     },
     "metadata": {},
     "output_type": "display_data"
    }
   ],
   "source": [
    "y, sr = librosa.load('timit/data/TRAIN/DR4/MGAG0/SX61.WAV', sr=16000)\n",
    "y.shape, sr"
   ]
  },
  {
   "cell_type": "code",
   "execution_count": 200,
   "metadata": {},
   "outputs": [
    {
     "data": {
      "text/plain": [
       "((60259,), 22050)"
      ]
     },
     "execution_count": 200,
     "metadata": {},
     "output_type": "execute_result"
    }
   ],
   "source": [
    "y, sr = librosa.load('timit/data/TRAIN/DR4/MGAG0/SX61.WAV')\n",
    "y.shape, sr"
   ]
  },
  {
   "cell_type": "code",
   "execution_count": 201,
   "metadata": {},
   "outputs": [
    {
     "data": {
      "text/plain": [
       "2.732834467120181"
      ]
     },
     "execution_count": 201,
     "metadata": {},
     "output_type": "execute_result"
    }
   ],
   "source": [
    "# duration\n",
    "60259/22050"
   ]
  },
  {
   "cell_type": "markdown",
   "metadata": {},
   "source": [
    "we know y=43725"
   ]
  },
  {
   "cell_type": "code",
   "execution_count": 198,
   "metadata": {},
   "outputs": [
    {
     "data": {
      "text/html": [
       "<div>\n",
       "<style scoped>\n",
       "    .dataframe tbody tr th:only-of-type {\n",
       "        vertical-align: middle;\n",
       "    }\n",
       "\n",
       "    .dataframe tbody tr th {\n",
       "        vertical-align: top;\n",
       "    }\n",
       "\n",
       "    .dataframe thead th {\n",
       "        text-align: right;\n",
       "    }\n",
       "</style>\n",
       "<table border=\"1\" class=\"dataframe\">\n",
       "  <thead>\n",
       "    <tr style=\"text-align: right;\">\n",
       "      <th></th>\n",
       "      <th>start_sample</th>\n",
       "      <th>end_sample</th>\n",
       "      <th>transcript</th>\n",
       "      <th>diff_sample</th>\n",
       "    </tr>\n",
       "  </thead>\n",
       "  <tbody>\n",
       "    <tr>\n",
       "      <th>0</th>\n",
       "      <td>0</td>\n",
       "      <td>43725</td>\n",
       "      <td>Chocolate and roses never fail as a romantic g...</td>\n",
       "      <td>43725</td>\n",
       "    </tr>\n",
       "  </tbody>\n",
       "</table>\n",
       "</div>"
      ],
      "text/plain": [
       "   start_sample  end_sample  \\\n",
       "0             0       43725   \n",
       "\n",
       "                                          transcript  diff_sample  \n",
       "0  Chocolate and roses never fail as a romantic g...        43725  "
      ]
     },
     "execution_count": 198,
     "metadata": {},
     "output_type": "execute_result"
    }
   ],
   "source": [
    "load_transcript('timit/data/TRAIN/DR4/MGAG0/SX61.TXT')"
   ]
  },
  {
   "cell_type": "code",
   "execution_count": 197,
   "metadata": {},
   "outputs": [
    {
     "data": {
      "text/plain": [
       "((45159,), 16000)"
      ]
     },
     "execution_count": 197,
     "metadata": {},
     "output_type": "execute_result"
    }
   ],
   "source": [
    "# try another \n",
    "y, sr = librosa.load('timit/data/TRAIN/DR4/MGAG0/SA1.WAV', sr=16000)\n",
    "y.shape, sr"
   ]
  },
  {
   "cell_type": "code",
   "execution_count": null,
   "metadata": {},
   "outputs": [
    {
     "data": {
      "text/html": [
       "<div>\n",
       "<style scoped>\n",
       "    .dataframe tbody tr th:only-of-type {\n",
       "        vertical-align: middle;\n",
       "    }\n",
       "\n",
       "    .dataframe tbody tr th {\n",
       "        vertical-align: top;\n",
       "    }\n",
       "\n",
       "    .dataframe thead th {\n",
       "        text-align: right;\n",
       "    }\n",
       "</style>\n",
       "<table border=\"1\" class=\"dataframe\">\n",
       "  <thead>\n",
       "    <tr style=\"text-align: right;\">\n",
       "      <th></th>\n",
       "      <th>start_time</th>\n",
       "      <th>end_time</th>\n",
       "      <th>transcript</th>\n",
       "    </tr>\n",
       "  </thead>\n",
       "  <tbody>\n",
       "    <tr>\n",
       "      <th>0</th>\n",
       "      <td>0</td>\n",
       "      <td>45159</td>\n",
       "      <td>She had your dark suit in greasy wash water al...</td>\n",
       "    </tr>\n",
       "  </tbody>\n",
       "</table>\n",
       "</div>"
      ],
      "text/plain": [
       "   start_time  end_time                                         transcript\n",
       "0           0     45159  She had your dark suit in greasy wash water al..."
      ]
     },
     "metadata": {},
     "output_type": "display_data"
    }
   ],
   "source": [
    "load_transcript('timit/data/TRAIN/DR4/MGAG0/SA1.TXT')"
   ]
  },
  {
   "cell_type": "code",
   "execution_count": null,
   "metadata": {},
   "outputs": [
    {
     "data": {
      "text/plain": [
       "2.732834467120181"
      ]
     },
     "metadata": {},
     "output_type": "display_data"
    }
   ],
   "source": [
    "# Number of samples=Duration×Sampling frequency (Sr in Hz)\n",
    "# Hz represents the number of samples per second.\n",
    "duration = len(y) / sr\n",
    "duration"
   ]
  },
  {
   "cell_type": "code",
   "execution_count": null,
   "metadata": {},
   "outputs": [
    {
     "data": {
      "text/plain": [
       "15999.871388506283"
      ]
     },
     "metadata": {},
     "output_type": "display_data"
    }
   ],
   "source": [
    "43725/duration  \n",
    "# if an audio file is 2.732834467120181 seconds long and contains 43725 samples, it means that the audio file has a sampling rate of approximately 16000 Hz"
   ]
  },
  {
   "cell_type": "code",
   "execution_count": null,
   "metadata": {},
   "outputs": [],
   "source": [
    "n_mfcc = 20  # Number of MFCC coefficients\n",
    "hop_length = 512  # Number of samples between consecutive frames (frame step)\n",
    "win_length = 1024  # Length of the analysis window in samples (frame size)"
   ]
  },
  {
   "cell_type": "code",
   "execution_count": null,
   "metadata": {},
   "outputs": [
    {
     "data": {
      "text/plain": [
       "0.064"
      ]
     },
     "metadata": {},
     "output_type": "display_data"
    }
   ],
   "source": [
    "1024/16000  # 64 ms"
   ]
  },
  {
   "cell_type": "code",
   "execution_count": null,
   "metadata": {},
   "outputs": [],
   "source": [
    "# Extract MFCC features\n",
    "mfccs = librosa.feature.mfcc(y=y, sr=sr, hop_length=hop_length, win_length=win_length, n_mfcc=n_mfcc)"
   ]
  },
  {
   "cell_type": "code",
   "execution_count": null,
   "metadata": {},
   "outputs": [
    {
     "data": {
      "text/plain": [
       "(20, 86)"
      ]
     },
     "metadata": {},
     "output_type": "display_data"
    }
   ],
   "source": [
    "mfccs.shape\n",
    "# The first dimension (20) represents the number of MFCC coefficients extracted. This is a common default value, as 20 coefficients are often sufficient to capture relevant information about the spectral characteristics of the audio signal.\n",
    "# The second dimension (86) represents the number of frames extracted from the audio signal. The number of frames is determined by the duration of the audio signal and the frame length and hop length used in the feature extraction process."
   ]
  },
  {
   "cell_type": "code",
   "execution_count": null,
   "metadata": {},
   "outputs": [
    {
     "data": {
      "text/plain": [
       "(20, 86)"
      ]
     },
     "metadata": {},
     "output_type": "display_data"
    }
   ],
   "source": [
    "mfcc = load_mfcc('timit/data/TRAIN/DR4/MGAG0/SX61.WAV')\n",
    "mfcc.shape"
   ]
  },
  {
   "cell_type": "code",
   "execution_count": null,
   "metadata": {},
   "outputs": [
    {
     "data": {
      "text/html": [
       "<div>\n",
       "<style scoped>\n",
       "    .dataframe tbody tr th:only-of-type {\n",
       "        vertical-align: middle;\n",
       "    }\n",
       "\n",
       "    .dataframe tbody tr th {\n",
       "        vertical-align: top;\n",
       "    }\n",
       "\n",
       "    .dataframe thead th {\n",
       "        text-align: right;\n",
       "    }\n",
       "</style>\n",
       "<table border=\"1\" class=\"dataframe\">\n",
       "  <thead>\n",
       "    <tr style=\"text-align: right;\">\n",
       "      <th></th>\n",
       "      <th>start_sample</th>\n",
       "      <th>end_sample</th>\n",
       "      <th>mfcc</th>\n",
       "    </tr>\n",
       "  </thead>\n",
       "  <tbody>\n",
       "    <tr>\n",
       "      <th>81</th>\n",
       "      <td>41472</td>\n",
       "      <td>42496</td>\n",
       "      <td>[-494.7277, 7.1650486, -1.718417, 17.082987, -...</td>\n",
       "    </tr>\n",
       "    <tr>\n",
       "      <th>82</th>\n",
       "      <td>41984</td>\n",
       "      <td>43008</td>\n",
       "      <td>[-627.15405, 57.744026, -20.17612, 10.34127, -...</td>\n",
       "    </tr>\n",
       "    <tr>\n",
       "      <th>83</th>\n",
       "      <td>42496</td>\n",
       "      <td>43520</td>\n",
       "      <td>[-698.2599, 51.94442, -1.7764928, 8.506399, 11...</td>\n",
       "    </tr>\n",
       "    <tr>\n",
       "      <th>84</th>\n",
       "      <td>43008</td>\n",
       "      <td>44032</td>\n",
       "      <td>[-753.46246, 40.802723, 8.634056, 1.6109326, 1...</td>\n",
       "    </tr>\n",
       "    <tr>\n",
       "      <th>85</th>\n",
       "      <td>43520</td>\n",
       "      <td>44544</td>\n",
       "      <td>[-795.0889, 12.04735, 9.87564, 9.984465, 5.128...</td>\n",
       "    </tr>\n",
       "  </tbody>\n",
       "</table>\n",
       "</div>"
      ],
      "text/plain": [
       "    start_sample  end_sample  \\\n",
       "81         41472       42496   \n",
       "82         41984       43008   \n",
       "83         42496       43520   \n",
       "84         43008       44032   \n",
       "85         43520       44544   \n",
       "\n",
       "                                                 mfcc  \n",
       "81  [-494.7277, 7.1650486, -1.718417, 17.082987, -...  \n",
       "82  [-627.15405, 57.744026, -20.17612, 10.34127, -...  \n",
       "83  [-698.2599, 51.94442, -1.7764928, 8.506399, 11...  \n",
       "84  [-753.46246, 40.802723, 8.634056, 1.6109326, 1...  \n",
       "85  [-795.0889, 12.04735, 9.87564, 9.984465, 5.128...  "
      ]
     },
     "metadata": {},
     "output_type": "display_data"
    }
   ],
   "source": [
    "df_mfcc = construct_mfcc_df(mfcc)\n",
    "df_mfcc.tail()"
   ]
  },
  {
   "cell_type": "markdown",
   "metadata": {},
   "source": [
    "## Align df_mfcc and df_phoneme "
   ]
  },
  {
   "cell_type": "markdown",
   "metadata": {},
   "source": [
    "epi, pau, h# are silence."
   ]
  },
  {
   "cell_type": "code",
   "execution_count": 192,
   "metadata": {},
   "outputs": [
    {
     "data": {
      "text/html": [
       "<div>\n",
       "<style scoped>\n",
       "    .dataframe tbody tr th:only-of-type {\n",
       "        vertical-align: middle;\n",
       "    }\n",
       "\n",
       "    .dataframe tbody tr th {\n",
       "        vertical-align: top;\n",
       "    }\n",
       "\n",
       "    .dataframe thead th {\n",
       "        text-align: right;\n",
       "    }\n",
       "</style>\n",
       "<table border=\"1\" class=\"dataframe\">\n",
       "  <thead>\n",
       "    <tr style=\"text-align: right;\">\n",
       "      <th></th>\n",
       "      <th>start_sample</th>\n",
       "      <th>end_sample</th>\n",
       "      <th>phoneme</th>\n",
       "      <th>diff_sample</th>\n",
       "    </tr>\n",
       "  </thead>\n",
       "  <tbody>\n",
       "    <tr>\n",
       "      <th>0</th>\n",
       "      <td>0</td>\n",
       "      <td>2370</td>\n",
       "      <td>h#</td>\n",
       "      <td>2370</td>\n",
       "    </tr>\n",
       "    <tr>\n",
       "      <th>1</th>\n",
       "      <td>2370</td>\n",
       "      <td>3442</td>\n",
       "      <td>#b</td>\n",
       "      <td>1072</td>\n",
       "    </tr>\n",
       "    <tr>\n",
       "      <th>2</th>\n",
       "      <td>3442</td>\n",
       "      <td>5351</td>\n",
       "      <td>#b</td>\n",
       "      <td>1909</td>\n",
       "    </tr>\n",
       "    <tr>\n",
       "      <th>3</th>\n",
       "      <td>5351</td>\n",
       "      <td>5973</td>\n",
       "      <td>#b</td>\n",
       "      <td>622</td>\n",
       "    </tr>\n",
       "    <tr>\n",
       "      <th>4</th>\n",
       "      <td>5973</td>\n",
       "      <td>6863</td>\n",
       "      <td>#b</td>\n",
       "      <td>890</td>\n",
       "    </tr>\n",
       "  </tbody>\n",
       "</table>\n",
       "</div>"
      ],
      "text/plain": [
       "   start_sample  end_sample phoneme  diff_sample\n",
       "0             0        2370      h#         2370\n",
       "1          2370        3442      #b         1072\n",
       "2          3442        5351      #b         1909\n",
       "3          5351        5973      #b          622\n",
       "4          5973        6863      #b          890"
      ]
     },
     "execution_count": 192,
     "metadata": {},
     "output_type": "execute_result"
    }
   ],
   "source": [
    "target_phoneme = ['h#', 'n', 'eh', 'v', 'axr']\n",
    "\n",
    "# substitute every other phoneme with \"#b\"\n",
    "df_phoneme['phoneme'] = df_phoneme['phoneme'].apply(lambda x: \"#b\" if x not in target_phoneme else x)\n",
    "df_phoneme.head()"
   ]
  },
  {
   "cell_type": "code",
   "execution_count": 189,
   "metadata": {},
   "outputs": [
    {
     "data": {
      "text/html": [
       "<div>\n",
       "<style scoped>\n",
       "    .dataframe tbody tr th:only-of-type {\n",
       "        vertical-align: middle;\n",
       "    }\n",
       "\n",
       "    .dataframe tbody tr th {\n",
       "        vertical-align: top;\n",
       "    }\n",
       "\n",
       "    .dataframe thead th {\n",
       "        text-align: right;\n",
       "    }\n",
       "</style>\n",
       "<table border=\"1\" class=\"dataframe\">\n",
       "  <thead>\n",
       "    <tr style=\"text-align: right;\">\n",
       "      <th></th>\n",
       "      <th>start_sample</th>\n",
       "      <th>end_sample</th>\n",
       "      <th>phoneme</th>\n",
       "      <th>diff_sample</th>\n",
       "    </tr>\n",
       "  </thead>\n",
       "  <tbody>\n",
       "    <tr>\n",
       "      <th>13</th>\n",
       "      <td>15882</td>\n",
       "      <td>16790</td>\n",
       "      <td>#b</td>\n",
       "      <td>908</td>\n",
       "    </tr>\n",
       "    <tr>\n",
       "      <th>14</th>\n",
       "      <td>16790</td>\n",
       "      <td>17642</td>\n",
       "      <td>n</td>\n",
       "      <td>852</td>\n",
       "    </tr>\n",
       "    <tr>\n",
       "      <th>15</th>\n",
       "      <td>17642</td>\n",
       "      <td>18673</td>\n",
       "      <td>eh</td>\n",
       "      <td>1031</td>\n",
       "    </tr>\n",
       "    <tr>\n",
       "      <th>16</th>\n",
       "      <td>18673</td>\n",
       "      <td>19342</td>\n",
       "      <td>v</td>\n",
       "      <td>669</td>\n",
       "    </tr>\n",
       "    <tr>\n",
       "      <th>17</th>\n",
       "      <td>19342</td>\n",
       "      <td>20305</td>\n",
       "      <td>axr</td>\n",
       "      <td>963</td>\n",
       "    </tr>\n",
       "    <tr>\n",
       "      <th>18</th>\n",
       "      <td>20305</td>\n",
       "      <td>22950</td>\n",
       "      <td>#b</td>\n",
       "      <td>2645</td>\n",
       "    </tr>\n",
       "  </tbody>\n",
       "</table>\n",
       "</div>"
      ],
      "text/plain": [
       "    start_sample  end_sample phoneme  diff_sample\n",
       "13         15882       16790      #b          908\n",
       "14         16790       17642       n          852\n",
       "15         17642       18673      eh         1031\n",
       "16         18673       19342       v          669\n",
       "17         19342       20305     axr          963\n",
       "18         20305       22950      #b         2645"
      ]
     },
     "execution_count": 189,
     "metadata": {},
     "output_type": "execute_result"
    }
   ],
   "source": [
    "df_phoneme.loc[13:18]"
   ]
  },
  {
   "cell_type": "code",
   "execution_count": 207,
   "metadata": {},
   "outputs": [
    {
     "data": {
      "text/html": [
       "<div>\n",
       "<style scoped>\n",
       "    .dataframe tbody tr th:only-of-type {\n",
       "        vertical-align: middle;\n",
       "    }\n",
       "\n",
       "    .dataframe tbody tr th {\n",
       "        vertical-align: top;\n",
       "    }\n",
       "\n",
       "    .dataframe thead th {\n",
       "        text-align: right;\n",
       "    }\n",
       "</style>\n",
       "<table border=\"1\" class=\"dataframe\">\n",
       "  <thead>\n",
       "    <tr style=\"text-align: right;\">\n",
       "      <th></th>\n",
       "      <th>start_sample</th>\n",
       "      <th>end_sample</th>\n",
       "      <th>mfcc</th>\n",
       "    </tr>\n",
       "  </thead>\n",
       "  <tbody>\n",
       "    <tr>\n",
       "      <th>205</th>\n",
       "      <td>16400</td>\n",
       "      <td>16800</td>\n",
       "      <td>[-489.03186, -12.311717, 58.93512, 42.58722, -...</td>\n",
       "    </tr>\n",
       "    <tr>\n",
       "      <th>206</th>\n",
       "      <td>16480</td>\n",
       "      <td>16880</td>\n",
       "      <td>[-504.2323, -29.32409, 67.523476, 37.44905, -1...</td>\n",
       "    </tr>\n",
       "    <tr>\n",
       "      <th>207</th>\n",
       "      <td>16560</td>\n",
       "      <td>16960</td>\n",
       "      <td>[-521.99133, -28.142538, 59.3443, 28.163754, -...</td>\n",
       "    </tr>\n",
       "    <tr>\n",
       "      <th>208</th>\n",
       "      <td>16640</td>\n",
       "      <td>17040</td>\n",
       "      <td>[-531.2007, -17.439379, 42.591145, 7.9479475, ...</td>\n",
       "    </tr>\n",
       "    <tr>\n",
       "      <th>209</th>\n",
       "      <td>16720</td>\n",
       "      <td>17120</td>\n",
       "      <td>[-558.5072, -11.389967, 43.460793, -2.4091964,...</td>\n",
       "    </tr>\n",
       "    <tr>\n",
       "      <th>...</th>\n",
       "      <td>...</td>\n",
       "      <td>...</td>\n",
       "      <td>...</td>\n",
       "    </tr>\n",
       "    <tr>\n",
       "      <th>282</th>\n",
       "      <td>22560</td>\n",
       "      <td>22960</td>\n",
       "      <td>[-482.33563, -27.126205, -14.6975765, -14.7098...</td>\n",
       "    </tr>\n",
       "    <tr>\n",
       "      <th>283</th>\n",
       "      <td>22640</td>\n",
       "      <td>23040</td>\n",
       "      <td>[-486.65332, -8.8072815, -24.472666, -2.108832...</td>\n",
       "    </tr>\n",
       "    <tr>\n",
       "      <th>284</th>\n",
       "      <td>22720</td>\n",
       "      <td>23120</td>\n",
       "      <td>[-511.60602, 11.586173, -31.901, 6.689104, -30...</td>\n",
       "    </tr>\n",
       "    <tr>\n",
       "      <th>285</th>\n",
       "      <td>22800</td>\n",
       "      <td>23200</td>\n",
       "      <td>[-525.69745, 65.10106, -14.114042, 24.237728, ...</td>\n",
       "    </tr>\n",
       "    <tr>\n",
       "      <th>286</th>\n",
       "      <td>22880</td>\n",
       "      <td>23280</td>\n",
       "      <td>[-431.3623, 154.21849, -42.033157, 0.043079704...</td>\n",
       "    </tr>\n",
       "  </tbody>\n",
       "</table>\n",
       "<p>82 rows × 3 columns</p>\n",
       "</div>"
      ],
      "text/plain": [
       "     start_sample  end_sample  \\\n",
       "205         16400       16800   \n",
       "206         16480       16880   \n",
       "207         16560       16960   \n",
       "208         16640       17040   \n",
       "209         16720       17120   \n",
       "..            ...         ...   \n",
       "282         22560       22960   \n",
       "283         22640       23040   \n",
       "284         22720       23120   \n",
       "285         22800       23200   \n",
       "286         22880       23280   \n",
       "\n",
       "                                                  mfcc  \n",
       "205  [-489.03186, -12.311717, 58.93512, 42.58722, -...  \n",
       "206  [-504.2323, -29.32409, 67.523476, 37.44905, -1...  \n",
       "207  [-521.99133, -28.142538, 59.3443, 28.163754, -...  \n",
       "208  [-531.2007, -17.439379, 42.591145, 7.9479475, ...  \n",
       "209  [-558.5072, -11.389967, 43.460793, -2.4091964,...  \n",
       "..                                                 ...  \n",
       "282  [-482.33563, -27.126205, -14.6975765, -14.7098...  \n",
       "283  [-486.65332, -8.8072815, -24.472666, -2.108832...  \n",
       "284  [-511.60602, 11.586173, -31.901, 6.689104, -30...  \n",
       "285  [-525.69745, 65.10106, -14.114042, 24.237728, ...  \n",
       "286  [-431.3623, 154.21849, -42.033157, 0.043079704...  \n",
       "\n",
       "[82 rows x 3 columns]"
      ]
     },
     "execution_count": 207,
     "metadata": {},
     "output_type": "execute_result"
    }
   ],
   "source": [
    "target_range = df_mfcc[(df_mfcc['end_sample'] >= df_phoneme.loc[14, 'start_sample']) & (df_mfcc['start_sample'] <= df_phoneme.loc[18, 'end_sample'])]\n",
    "target_range"
   ]
  },
  {
   "cell_type": "markdown",
   "metadata": {},
   "source": [
    "Because a frame (400 samples) can never contain more than 2 phonemes, we can use the following data structure to store the phoneme information.\n",
    "\n",
    "```\n",
    "h# (silence)\n",
    "#b (other phonemes, noise)\n",
    "#bn (bi-phonemes)\n",
    "n\n",
    "neh (bi-phonemes)\n",
    "eh\n",
    "v\n",
    "axr\n",
    "vaxr (bi-phonemes)\n",
    "axr#b (bi-phonemes)\n",
    "```\n",
    "\n",
    "10 dimensional feature vector for each frame."
   ]
  },
  {
   "cell_type": "code",
   "execution_count": 173,
   "metadata": {},
   "outputs": [
    {
     "data": {
      "text/plain": [
       "start_sample                                                16800\n",
       "end_sample                                                  17200\n",
       "mfcc            [-623.5903, -1.6005177, 46.49632, -1.0682647, ...\n",
       "Name: 210, dtype: object"
      ]
     },
     "execution_count": 173,
     "metadata": {},
     "output_type": "execute_result"
    }
   ],
   "source": [
    "# for each row in df_mfcc, find the corresponding phoneme\n",
    "row = df_mfcc.loc[210]\n",
    "row"
   ]
  },
  {
   "cell_type": "code",
   "execution_count": 174,
   "metadata": {},
   "outputs": [],
   "source": [
    "phoneme_labels = []\n",
    "phonemes = ['h', 'b', 'bn', 'n', 'eh', 'v', 'axr', 'vaxr', 'axr#b']"
   ]
  },
  {
   "cell_type": "code",
   "execution_count": 175,
   "metadata": {},
   "outputs": [
    {
     "data": {
      "text/plain": [
       "[[0, 0, 0, 0, 0, 0, 0, 0, 0, 0]]"
      ]
     },
     "execution_count": 175,
     "metadata": {},
     "output_type": "execute_result"
    }
   ],
   "source": [
    "# locate the range of phoneme\n",
    "start_sample = row['start_sample']\n",
    "end_sample = row['end_sample']\n",
    "\n",
    "phoneme_vector = [0] * 10\n",
    "\n",
    "phonme_subset = df_phonme[(df_phonme['start_sample'] >= start_sample) & (df_phonme['end_sample'] <= end_sample)]\n",
    "\n",
    "for _, phonme_row in phonme_subset.iterrows():\n",
    "    phoneme = phonme_row['phoneme']\n",
    "    if phoneme in phonemes:\n",
    "        phoneme_index = phonemes.index(phoneme)\n",
    "        phoneme_vector[phoneme_index] = 1\n",
    "\n",
    "phoneme_labels.append(phoneme_vector)\n",
    "\n",
    "phoneme_labels"
   ]
  }
 ],
 "metadata": {
  "kernelspec": {
   "display_name": "ml",
   "language": "python",
   "name": "python3"
  },
  "language_info": {
   "codemirror_mode": {
    "name": "ipython",
    "version": 3
   },
   "file_extension": ".py",
   "mimetype": "text/x-python",
   "name": "python",
   "nbconvert_exporter": "python",
   "pygments_lexer": "ipython3",
   "version": "3.9.19"
  }
 },
 "nbformat": 4,
 "nbformat_minor": 2
}
