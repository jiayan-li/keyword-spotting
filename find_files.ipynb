{
 "cells": [
  {
   "cell_type": "code",
   "execution_count": 13,
   "metadata": {},
   "outputs": [
    {
     "name": "stdout",
     "output_type": "stream",
     "text": [
      "The autoreload extension is already loaded. To reload it, use:\n",
      "  %reload_ext autoreload\n"
     ]
    }
   ],
   "source": [
    "%load_ext autoreload\n",
    "%autoreload 2"
   ]
  },
  {
   "cell_type": "code",
   "execution_count": 14,
   "metadata": {},
   "outputs": [],
   "source": [
    "from find_files import *\n",
    "from data_utils import load_data"
   ]
  },
  {
   "cell_type": "code",
   "execution_count": 15,
   "metadata": {},
   "outputs": [],
   "source": [
    "import glob\n",
    "import pandas as pd\n"
   ]
  },
  {
   "cell_type": "markdown",
   "metadata": {},
   "source": [
    "## Process all prompts"
   ]
  },
  {
   "cell_type": "code",
   "execution_count": 16,
   "metadata": {},
   "outputs": [],
   "source": [
    "df = process_all_prompts()"
   ]
  },
  {
   "cell_type": "code",
   "execution_count": 17,
   "metadata": {},
   "outputs": [
    {
     "data": {
      "text/plain": [
       "(2342, 8)"
      ]
     },
     "execution_count": 17,
     "metadata": {},
     "output_type": "execute_result"
    }
   ],
   "source": [
    "df.shape"
   ]
  },
  {
   "cell_type": "code",
   "execution_count": 18,
   "metadata": {},
   "outputs": [
    {
     "data": {
      "text/html": [
       "<div>\n",
       "<style scoped>\n",
       "    .dataframe tbody tr th:only-of-type {\n",
       "        vertical-align: middle;\n",
       "    }\n",
       "\n",
       "    .dataframe tbody tr th {\n",
       "        vertical-align: top;\n",
       "    }\n",
       "\n",
       "    .dataframe thead th {\n",
       "        text-align: right;\n",
       "    }\n",
       "</style>\n",
       "<table border=\"1\" class=\"dataframe\">\n",
       "  <thead>\n",
       "    <tr style=\"text-align: right;\">\n",
       "      <th></th>\n",
       "      <th>prompt</th>\n",
       "      <th>prompt_id</th>\n",
       "      <th>file_count</th>\n",
       "      <th>contain_keyword</th>\n",
       "      <th>n</th>\n",
       "      <th>eh</th>\n",
       "      <th>v</th>\n",
       "      <th>axr</th>\n",
       "    </tr>\n",
       "  </thead>\n",
       "  <tbody>\n",
       "    <tr>\n",
       "      <th>0</th>\n",
       "      <td>She had your dark suit in greasy wash water al...</td>\n",
       "      <td>sa1</td>\n",
       "      <td>630</td>\n",
       "      <td>False</td>\n",
       "      <td>0</td>\n",
       "      <td>1</td>\n",
       "      <td>0</td>\n",
       "      <td>2</td>\n",
       "    </tr>\n",
       "    <tr>\n",
       "      <th>1</th>\n",
       "      <td>Don't ask me to carry an oily rag like that.</td>\n",
       "      <td>sa2</td>\n",
       "      <td>630</td>\n",
       "      <td>False</td>\n",
       "      <td>1</td>\n",
       "      <td>1</td>\n",
       "      <td>0</td>\n",
       "      <td>0</td>\n",
       "    </tr>\n",
       "    <tr>\n",
       "      <th>2</th>\n",
       "      <td>This was easy for us.</td>\n",
       "      <td>sx3</td>\n",
       "      <td>7</td>\n",
       "      <td>False</td>\n",
       "      <td>0</td>\n",
       "      <td>0</td>\n",
       "      <td>0</td>\n",
       "      <td>0</td>\n",
       "    </tr>\n",
       "    <tr>\n",
       "      <th>3</th>\n",
       "      <td>Jane may earn more money by working hard.</td>\n",
       "      <td>sx4</td>\n",
       "      <td>7</td>\n",
       "      <td>False</td>\n",
       "      <td>3</td>\n",
       "      <td>0</td>\n",
       "      <td>0</td>\n",
       "      <td>0</td>\n",
       "    </tr>\n",
       "    <tr>\n",
       "      <th>4</th>\n",
       "      <td>She is thinner than I am.</td>\n",
       "      <td>sx5</td>\n",
       "      <td>7</td>\n",
       "      <td>False</td>\n",
       "      <td>2</td>\n",
       "      <td>1</td>\n",
       "      <td>0</td>\n",
       "      <td>0</td>\n",
       "    </tr>\n",
       "  </tbody>\n",
       "</table>\n",
       "</div>"
      ],
      "text/plain": [
       "                                              prompt prompt_id  file_count  \\\n",
       "0  She had your dark suit in greasy wash water al...       sa1         630   \n",
       "1       Don't ask me to carry an oily rag like that.       sa2         630   \n",
       "2                              This was easy for us.       sx3           7   \n",
       "3          Jane may earn more money by working hard.       sx4           7   \n",
       "4                          She is thinner than I am.       sx5           7   \n",
       "\n",
       "   contain_keyword  n  eh  v  axr  \n",
       "0            False  0   1  0    2  \n",
       "1            False  1   1  0    0  \n",
       "2            False  0   0  0    0  \n",
       "3            False  3   0  0    0  \n",
       "4            False  2   1  0    0  "
      ]
     },
     "execution_count": 18,
     "metadata": {},
     "output_type": "execute_result"
    }
   ],
   "source": [
    "df.head()"
   ]
  },
  {
   "cell_type": "code",
   "execution_count": 22,
   "metadata": {},
   "outputs": [
    {
     "data": {
      "text/plain": [
       "57"
      ]
     },
     "execution_count": 22,
     "metadata": {},
     "output_type": "execute_result"
    }
   ],
   "source": [
    "pos_audio_path = get_all_paths('never', 'wav')\n",
    "len(pos_audio_path)"
   ]
  },
  {
   "cell_type": "code",
   "execution_count": 29,
   "metadata": {},
   "outputs": [],
   "source": [
    "dataset = get_train_test_paths(rerun=True)"
   ]
  },
  {
   "cell_type": "code",
   "execution_count": 30,
   "metadata": {},
   "outputs": [
    {
     "data": {
      "text/plain": [
       "{'train': [('timit/data/TRAIN/DR2/FMMH0/SI907.WAV',\n",
       "   'timit/data/TRAIN/DR2/FMMH0/SI907.PHN'),\n",
       "  ('timit/data/TRAIN/DR5/MTAT0/SX210.WAV',\n",
       "   'timit/data/TRAIN/DR5/MTAT0/SX210.PHN'),\n",
       "  ('timit/data/TRAIN/DR7/MBBR0/SX425.WAV',\n",
       "   'timit/data/TRAIN/DR7/MBBR0/SX425.PHN'),\n",
       "  ('timit/data/TRAIN/DR4/MJMM0/SI625.WAV',\n",
       "   'timit/data/TRAIN/DR4/MJMM0/SI625.PHN'),\n",
       "  ('timit/data/TRAIN/DR4/MARW0/SX376.WAV',\n",
       "   'timit/data/TRAIN/DR4/MARW0/SX376.PHN'),\n",
       "  ('timit/data/TRAIN/DR5/MJRG0/SX376.WAV',\n",
       "   'timit/data/TRAIN/DR5/MJRG0/SX376.PHN'),\n",
       "  ('timit/data/TRAIN/DR2/MKDT0/SI893.WAV',\n",
       "   'timit/data/TRAIN/DR2/MKDT0/SI893.PHN'),\n",
       "  ('timit/data/TRAIN/DR5/MCLM0/SX376.WAV',\n",
       "   'timit/data/TRAIN/DR5/MCLM0/SX376.PHN'),\n",
       "  ('timit/data/TRAIN/DR4/MDCD0/SX425.WAV',\n",
       "   'timit/data/TRAIN/DR4/MDCD0/SX425.PHN'),\n",
       "  ('timit/data/TRAIN/DR4/MJEE0/SI1237.WAV',\n",
       "   'timit/data/TRAIN/DR4/MJEE0/SI1237.PHN'),\n",
       "  ('timit/data/TRAIN/DR7/MDPB0/SX146.WAV',\n",
       "   'timit/data/TRAIN/DR7/MDPB0/SX146.PHN'),\n",
       "  ('timit/data/TRAIN/DR4/MLJC0/SI1855.WAV',\n",
       "   'timit/data/TRAIN/DR4/MLJC0/SI1855.PHN'),\n",
       "  ('timit/data/TRAIN/DR2/MRMS0/SX210.WAV',\n",
       "   'timit/data/TRAIN/DR2/MRMS0/SX210.PHN'),\n",
       "  ('timit/data/TRAIN/DR3/MDHS0/SI2160.WAV',\n",
       "   'timit/data/TRAIN/DR3/MDHS0/SI2160.PHN'),\n",
       "  ('timit/data/TRAIN/DR1/FDAW0/SX146.WAV',\n",
       "   'timit/data/TRAIN/DR1/FDAW0/SX146.PHN'),\n",
       "  ('timit/data/TRAIN/DR6/FBCH0/SX146.WAV',\n",
       "   'timit/data/TRAIN/DR6/FBCH0/SX146.PHN'),\n",
       "  ('timit/data/TRAIN/DR5/MPMB0/SX61.WAV',\n",
       "   'timit/data/TRAIN/DR5/MPMB0/SX61.PHN'),\n",
       "  ('timit/data/TRAIN/DR3/MDTB0/SX210.WAV',\n",
       "   'timit/data/TRAIN/DR3/MDTB0/SX210.PHN'),\n",
       "  ('timit/data/TRAIN/DR6/MBMA1/SI2214.WAV',\n",
       "   'timit/data/TRAIN/DR6/MBMA1/SI2214.PHN'),\n",
       "  ('timit/data/TRAIN/DR4/MJLS0/SX376.WAV',\n",
       "   'timit/data/TRAIN/DR4/MJLS0/SX376.PHN'),\n",
       "  ('timit/data/TRAIN/DR2/MTJG0/SX440.WAV',\n",
       "   'timit/data/TRAIN/DR2/MTJG0/SX440.PHN'),\n",
       "  ('timit/data/TRAIN/DR5/FKKH0/SX210.WAV',\n",
       "   'timit/data/TRAIN/DR5/FKKH0/SX210.PHN'),\n",
       "  ('timit/data/TRAIN/DR1/MTPF0/SX425.WAV',\n",
       "   'timit/data/TRAIN/DR1/MTPF0/SX425.PHN'),\n",
       "  ('timit/data/TRAIN/DR6/MABC0/SX61.WAV',\n",
       "   'timit/data/TRAIN/DR6/MABC0/SX61.PHN'),\n",
       "  ('timit/data/TRAIN/DR7/MREM0/SX61.WAV',\n",
       "   'timit/data/TRAIN/DR7/MREM0/SX61.PHN'),\n",
       "  ('timit/data/TRAIN/DR8/FBCG1/SI1612.WAV',\n",
       "   'timit/data/TRAIN/DR8/FBCG1/SI1612.PHN'),\n",
       "  ('timit/data/TRAIN/DR3/FLTM0/SX440.WAV',\n",
       "   'timit/data/TRAIN/DR3/FLTM0/SX440.PHN'),\n",
       "  ('timit/data/TRAIN/DR4/MDMA0/SX440.WAV',\n",
       "   'timit/data/TRAIN/DR4/MDMA0/SX440.PHN')],\n",
       " 'test': [('timit/data/TRAIN/DR7/MSES0/SI2216.WAV',\n",
       "   'timit/data/TRAIN/DR7/MSES0/SI2216.PHN'),\n",
       "  ('timit/data/TRAIN/DR1/MJEB1/SI2097.WAV',\n",
       "   'timit/data/TRAIN/DR1/MJEB1/SI2097.PHN'),\n",
       "  ('timit/data/TRAIN/DR8/FMBG0/SX440.WAV',\n",
       "   'timit/data/TRAIN/DR8/FMBG0/SX440.PHN'),\n",
       "  ('timit/data/TRAIN/DR4/FLKM0/SX440.WAV',\n",
       "   'timit/data/TRAIN/DR4/FLKM0/SX440.PHN'),\n",
       "  ('timit/data/TRAIN/DR6/MSAT1/SI1703.WAV',\n",
       "   'timit/data/TRAIN/DR6/MSAT1/SI1703.PHN'),\n",
       "  ('timit/data/TRAIN/DR7/FLEH0/SX61.WAV',\n",
       "   'timit/data/TRAIN/DR7/FLEH0/SX61.PHN'),\n",
       "  ('timit/data/TRAIN/DR5/FBMH0/SX146.WAV',\n",
       "   'timit/data/TRAIN/DR5/FBMH0/SX146.PHN'),\n",
       "  ('timit/data/TRAIN/DR7/FKDE0/SX61.WAV',\n",
       "   'timit/data/TRAIN/DR7/FKDE0/SX61.PHN'),\n",
       "  ('timit/data/TEST/DR1/MDAB0/SI1039.WAV',\n",
       "   'timit/data/TEST/DR1/MDAB0/SI1039.PHN'),\n",
       "  ('timit/data/TRAIN/DR4/MGAG0/SX61.WAV',\n",
       "   'timit/data/TRAIN/DR4/MGAG0/SX61.PHN'),\n",
       "  ('timit/data/TEST/DR3/MCSH0/SI2179.WAV',\n",
       "   'timit/data/TEST/DR3/MCSH0/SI2179.PHN'),\n",
       "  ('timit/data/TRAIN/DR3/MDBB1/SX376.WAV',\n",
       "   'timit/data/TRAIN/DR3/MDBB1/SX376.PHN'),\n",
       "  ('timit/data/TRAIN/DR5/FCDR1/SX376.WAV',\n",
       "   'timit/data/TRAIN/DR5/FCDR1/SX376.PHN'),\n",
       "  ('timit/data/TRAIN/DR3/MDWM0/SX376.WAV',\n",
       "   'timit/data/TRAIN/DR3/MDWM0/SX376.PHN'),\n",
       "  ('timit/data/TRAIN/DR4/MCSS0/SX210.WAV',\n",
       "   'timit/data/TRAIN/DR4/MCSS0/SX210.PHN'),\n",
       "  ('timit/data/TRAIN/DR3/MRJB1/SX210.WAV',\n",
       "   'timit/data/TRAIN/DR3/MRJB1/SX210.PHN'),\n",
       "  ('timit/data/TRAIN/DR5/MJDM0/SX440.WAV',\n",
       "   'timit/data/TRAIN/DR5/MJDM0/SX440.PHN'),\n",
       "  ('timit/data/TEST/DR5/MBPM0/SI1584.WAV',\n",
       "   'timit/data/TEST/DR5/MBPM0/SI1584.PHN'),\n",
       "  ('timit/data/TRAIN/DR3/MTJM0/SX146.WAV',\n",
       "   'timit/data/TRAIN/DR3/MTJM0/SX146.PHN'),\n",
       "  ('timit/data/TRAIN/DR4/MKAM0/SX146.WAV',\n",
       "   'timit/data/TRAIN/DR4/MKAM0/SX146.PHN'),\n",
       "  ('timit/data/TRAIN/DR3/FEME0/SX425.WAV',\n",
       "   'timit/data/TRAIN/DR3/FEME0/SX425.PHN'),\n",
       "  ('timit/data/TRAIN/DR3/FJLR0/SX61.WAV',\n",
       "   'timit/data/TRAIN/DR3/FJLR0/SX61.PHN'),\n",
       "  ('timit/data/TRAIN/DR2/FPJF0/SX146.WAV',\n",
       "   'timit/data/TRAIN/DR2/FPJF0/SX146.PHN'),\n",
       "  ('timit/data/TRAIN/DR2/FHLM0/SX210.WAV',\n",
       "   'timit/data/TRAIN/DR2/FHLM0/SX210.PHN'),\n",
       "  ('timit/data/TRAIN/DR7/MDLC1/SI2065.WAV',\n",
       "   'timit/data/TRAIN/DR7/MDLC1/SI2065.PHN'),\n",
       "  ('timit/data/TRAIN/DR8/MRDM0/SX425.WAV',\n",
       "   'timit/data/TRAIN/DR8/MRDM0/SX425.PHN'),\n",
       "  ('timit/data/TRAIN/DR5/MSDH0/SX440.WAV',\n",
       "   'timit/data/TRAIN/DR5/MSDH0/SX440.PHN'),\n",
       "  ('timit/data/TRAIN/DR5/FGMB0/SX425.WAV',\n",
       "   'timit/data/TRAIN/DR5/FGMB0/SX425.PHN'),\n",
       "  ('timit/data/TRAIN/DR4/FALR0/SX425.WAV',\n",
       "   'timit/data/TRAIN/DR4/FALR0/SX425.PHN')]}"
      ]
     },
     "execution_count": 30,
     "metadata": {},
     "output_type": "execute_result"
    }
   ],
   "source": [
    "dataset"
   ]
  },
  {
   "cell_type": "markdown",
   "metadata": {},
   "source": [
    "for testing the whole system"
   ]
  },
  {
   "cell_type": "code",
   "execution_count": null,
   "metadata": {},
   "outputs": [],
   "source": [
    "pos_audio_path"
   ]
  },
  {
   "cell_type": "code",
   "execution_count": null,
   "metadata": {},
   "outputs": [],
   "source": [
    "pos_phoneme_path = get_all_paths('never', 'PHN')\n",
    "len(pos_phoneme_path)"
   ]
  },
  {
   "cell_type": "code",
   "execution_count": null,
   "metadata": {},
   "outputs": [],
   "source": [
    "pos_phoneme_path"
   ]
  },
  {
   "cell_type": "code",
   "execution_count": null,
   "metadata": {},
   "outputs": [],
   "source": [
    "test_path = pos_phoneme_path[0]\n",
    "test_path"
   ]
  },
  {
   "cell_type": "code",
   "execution_count": null,
   "metadata": {},
   "outputs": [],
   "source": [
    "df = load_data(test_path, 'phoneme')"
   ]
  },
  {
   "cell_type": "code",
   "execution_count": null,
   "metadata": {},
   "outputs": [],
   "source": [
    "# find target phoneme\n",
    "with open(test_path, 'r') as file:\n",
    "    phn = file.readlines()\n",
    "    parsed_data = [line.split() for line in phn]"
   ]
  },
  {
   "cell_type": "code",
   "execution_count": null,
   "metadata": {},
   "outputs": [],
   "source": [
    "phn"
   ]
  },
  {
   "cell_type": "code",
   "execution_count": null,
   "metadata": {},
   "outputs": [],
   "source": [
    "parsed_data"
   ]
  },
  {
   "cell_type": "markdown",
   "metadata": {},
   "source": [
    "## sanity check"
   ]
  },
  {
   "cell_type": "code",
   "execution_count": null,
   "metadata": {},
   "outputs": [],
   "source": [
    "# for sanity checks\n",
    "df_train = pd.read_csv('timit/train_data.csv')\n",
    "df_test = pd.read_csv('timit/test_data.csv')"
   ]
  },
  {
   "cell_type": "code",
   "execution_count": null,
   "metadata": {},
   "outputs": [],
   "source": [
    "df_train.head()"
   ]
  },
  {
   "cell_type": "code",
   "execution_count": null,
   "metadata": {},
   "outputs": [],
   "source": []
  },
  {
   "cell_type": "code",
   "execution_count": null,
   "metadata": {},
   "outputs": [],
   "source": [
    "prompt_file = 'timit/PROMPTS.txt'\n",
    "with open(prompt_file, 'r') as file:\n",
    "    prompt = file.readlines()\n",
    "    # remove the newline character\n",
    "    prompt = [line.strip() for line in prompt]\n",
    "\n",
    "prompt"
   ]
  },
  {
   "cell_type": "code",
   "execution_count": null,
   "metadata": {},
   "outputs": [],
   "source": [
    "import re\n",
    "\n",
    "# Input string\n",
    "input_string = 'She had your dark suit in greasy wash water all year. (sa1)'\n",
    "\n",
    "# Define the regex pattern to capture the sentence and the substring in parentheses\n",
    "pattern = r'^(.*?)\\s*\\((.*?)\\)$'\n",
    "\n",
    "# Apply the pattern to the input string\n",
    "matches = re.match(pattern, input_string)\n",
    "\n",
    "# Extract the sentence and the substring\n",
    "if matches:\n",
    "    sentence = matches.group(1)\n",
    "    substring = matches.group(2)\n",
    "\n",
    "    # Create the list\n",
    "    result = [sentence, substring]\n",
    "    \n",
    "    # Print the result\n",
    "    print(result)\n",
    "else:\n",
    "    print(\"No match found.\")\n"
   ]
  },
  {
   "cell_type": "code",
   "execution_count": null,
   "metadata": {},
   "outputs": [],
   "source": []
  }
 ],
 "metadata": {
  "kernelspec": {
   "display_name": "ml",
   "language": "python",
   "name": "python3"
  },
  "language_info": {
   "codemirror_mode": {
    "name": "ipython",
    "version": 3
   },
   "file_extension": ".py",
   "mimetype": "text/x-python",
   "name": "python",
   "nbconvert_exporter": "python",
   "pygments_lexer": "ipython3",
   "version": "3.9.6"
  }
 },
 "nbformat": 4,
 "nbformat_minor": 2
}
