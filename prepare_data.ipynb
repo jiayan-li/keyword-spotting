{
 "cells": [
  {
   "cell_type": "code",
   "execution_count": 1,
   "metadata": {},
   "outputs": [],
   "source": [
    "%load_ext autoreload\n",
    "%autoreload 2"
   ]
  },
  {
   "cell_type": "code",
   "execution_count": 32,
   "metadata": {},
   "outputs": [],
   "source": [
    "from utils import *\n",
    "from mfcc_label import *\n",
    "from get_prob import get_label_df\n",
    "from config import *\n",
    "from prepare_data import *"
   ]
  },
  {
   "cell_type": "code",
   "execution_count": 33,
   "metadata": {},
   "outputs": [
    {
     "name": "stdout",
     "output_type": "stream",
     "text": [
      "For start 39840 and end 40240, there is no time-overlapping row.\n"
     ]
    },
    {
     "name": "stderr",
     "output_type": "stream",
     "text": [
      "/Users/jiayanli/Documents/project/code/keyword-spotting/prepare_data.py:26: UserWarning: Boolean Series key will be reindexed to match DataFrame index.\n",
      "  df_pos = df_label[df_label['start_sample'] >= start_sample][df_label['end_sample'] <= end_sample]\n",
      "/Users/jiayanli/Documents/project/code/keyword-spotting/prepare_data.py:26: UserWarning: Boolean Series key will be reindexed to match DataFrame index.\n",
      "  df_pos = df_label[df_label['start_sample'] >= start_sample][df_label['end_sample'] <= end_sample]\n",
      "/Users/jiayanli/Documents/project/code/keyword-spotting/prepare_data.py:26: UserWarning: Boolean Series key will be reindexed to match DataFrame index.\n",
      "  df_pos = df_label[df_label['start_sample'] >= start_sample][df_label['end_sample'] <= end_sample]\n",
      "/Users/jiayanli/Documents/project/code/keyword-spotting/prepare_data.py:26: UserWarning: Boolean Series key will be reindexed to match DataFrame index.\n",
      "  df_pos = df_label[df_label['start_sample'] >= start_sample][df_label['end_sample'] <= end_sample]\n",
      "/Users/jiayanli/Documents/project/code/keyword-spotting/prepare_data.py:26: UserWarning: Boolean Series key will be reindexed to match DataFrame index.\n",
      "  df_pos = df_label[df_label['start_sample'] >= start_sample][df_label['end_sample'] <= end_sample]\n",
      "/Users/jiayanli/Documents/project/code/keyword-spotting/prepare_data.py:26: UserWarning: Boolean Series key will be reindexed to match DataFrame index.\n",
      "  df_pos = df_label[df_label['start_sample'] >= start_sample][df_label['end_sample'] <= end_sample]\n",
      "/Users/jiayanli/Documents/project/code/keyword-spotting/prepare_data.py:26: UserWarning: Boolean Series key will be reindexed to match DataFrame index.\n",
      "  df_pos = df_label[df_label['start_sample'] >= start_sample][df_label['end_sample'] <= end_sample]\n",
      "/Users/jiayanli/Documents/project/code/keyword-spotting/prepare_data.py:26: UserWarning: Boolean Series key will be reindexed to match DataFrame index.\n",
      "  df_pos = df_label[df_label['start_sample'] >= start_sample][df_label['end_sample'] <= end_sample]\n",
      "/Users/jiayanli/Documents/project/code/keyword-spotting/prepare_data.py:26: UserWarning: Boolean Series key will be reindexed to match DataFrame index.\n",
      "  df_pos = df_label[df_label['start_sample'] >= start_sample][df_label['end_sample'] <= end_sample]\n"
     ]
    },
    {
     "name": "stdout",
     "output_type": "stream",
     "text": [
      "For start 42480 and end 42880, there is no time-overlapping row.\n",
      "For start 0 and end 400, there is no time-overlapping row.\n",
      "For start 80 and end 480, there is no time-overlapping row.\n",
      "For start 160 and end 560, there is no time-overlapping row.\n",
      "For start 240 and end 640, there is no time-overlapping row.\n",
      "For start 320 and end 720, there is no time-overlapping row.\n",
      "For start 400 and end 800, there is no time-overlapping row.\n",
      "For start 480 and end 880, there is no time-overlapping row.\n",
      "For start 560 and end 960, there is no time-overlapping row.\n",
      "For start 640 and end 1040, there is no time-overlapping row.\n",
      "For start 720 and end 1120, there is no time-overlapping row.\n",
      "For start 800 and end 1200, there is no time-overlapping row.\n",
      "For start 880 and end 1280, there is no time-overlapping row.\n",
      "For start 960 and end 1360, there is no time-overlapping row.\n",
      "For start 1040 and end 1440, there is no time-overlapping row.\n",
      "For start 1120 and end 1520, there is no time-overlapping row.\n",
      "For start 1200 and end 1600, there is no time-overlapping row.\n",
      "For start 1280 and end 1680, there is no time-overlapping row.\n",
      "For start 1360 and end 1760, there is no time-overlapping row.\n",
      "For start 1440 and end 1840, there is no time-overlapping row.\n",
      "For start 1520 and end 1920, there is no time-overlapping row.\n",
      "For start 1600 and end 2000, there is no time-overlapping row.\n",
      "For start 1680 and end 2080, there is no time-overlapping row.\n",
      "For start 1760 and end 2160, there is no time-overlapping row.\n",
      "For start 1840 and end 2240, there is no time-overlapping row.\n",
      "For start 1920 and end 2320, there is no time-overlapping row.\n",
      "For start 2000 and end 2400, there is no time-overlapping row.\n"
     ]
    },
    {
     "name": "stderr",
     "output_type": "stream",
     "text": [
      "/Users/jiayanli/Documents/project/code/keyword-spotting/prepare_data.py:26: UserWarning: Boolean Series key will be reindexed to match DataFrame index.\n",
      "  df_pos = df_label[df_label['start_sample'] >= start_sample][df_label['end_sample'] <= end_sample]\n",
      "/Users/jiayanli/Documents/project/code/keyword-spotting/prepare_data.py:26: UserWarning: Boolean Series key will be reindexed to match DataFrame index.\n",
      "  df_pos = df_label[df_label['start_sample'] >= start_sample][df_label['end_sample'] <= end_sample]\n",
      "/Users/jiayanli/Documents/project/code/keyword-spotting/prepare_data.py:26: UserWarning: Boolean Series key will be reindexed to match DataFrame index.\n",
      "  df_pos = df_label[df_label['start_sample'] >= start_sample][df_label['end_sample'] <= end_sample]\n",
      "/Users/jiayanli/Documents/project/code/keyword-spotting/prepare_data.py:26: UserWarning: Boolean Series key will be reindexed to match DataFrame index.\n",
      "  df_pos = df_label[df_label['start_sample'] >= start_sample][df_label['end_sample'] <= end_sample]\n",
      "/Users/jiayanli/Documents/project/code/keyword-spotting/prepare_data.py:26: UserWarning: Boolean Series key will be reindexed to match DataFrame index.\n",
      "  df_pos = df_label[df_label['start_sample'] >= start_sample][df_label['end_sample'] <= end_sample]\n",
      "/Users/jiayanli/Documents/project/code/keyword-spotting/prepare_data.py:26: UserWarning: Boolean Series key will be reindexed to match DataFrame index.\n",
      "  df_pos = df_label[df_label['start_sample'] >= start_sample][df_label['end_sample'] <= end_sample]\n"
     ]
    },
    {
     "name": "stdout",
     "output_type": "stream",
     "text": [
      "For start 60640 and end 61040, there is no time-overlapping row.\n"
     ]
    },
    {
     "name": "stderr",
     "output_type": "stream",
     "text": [
      "/Users/jiayanli/Documents/project/code/keyword-spotting/prepare_data.py:26: UserWarning: Boolean Series key will be reindexed to match DataFrame index.\n",
      "  df_pos = df_label[df_label['start_sample'] >= start_sample][df_label['end_sample'] <= end_sample]\n",
      "/Users/jiayanli/Documents/project/code/keyword-spotting/prepare_data.py:26: UserWarning: Boolean Series key will be reindexed to match DataFrame index.\n",
      "  df_pos = df_label[df_label['start_sample'] >= start_sample][df_label['end_sample'] <= end_sample]\n",
      "/Users/jiayanli/Documents/project/code/keyword-spotting/prepare_data.py:26: UserWarning: Boolean Series key will be reindexed to match DataFrame index.\n",
      "  df_pos = df_label[df_label['start_sample'] >= start_sample][df_label['end_sample'] <= end_sample]\n",
      "/Users/jiayanli/Documents/project/code/keyword-spotting/prepare_data.py:26: UserWarning: Boolean Series key will be reindexed to match DataFrame index.\n",
      "  df_pos = df_label[df_label['start_sample'] >= start_sample][df_label['end_sample'] <= end_sample]\n",
      "/Users/jiayanli/Documents/project/code/keyword-spotting/prepare_data.py:26: UserWarning: Boolean Series key will be reindexed to match DataFrame index.\n",
      "  df_pos = df_label[df_label['start_sample'] >= start_sample][df_label['end_sample'] <= end_sample]\n",
      "/Users/jiayanli/Documents/project/code/keyword-spotting/prepare_data.py:26: UserWarning: Boolean Series key will be reindexed to match DataFrame index.\n",
      "  df_pos = df_label[df_label['start_sample'] >= start_sample][df_label['end_sample'] <= end_sample]\n"
     ]
    },
    {
     "name": "stdout",
     "output_type": "stream",
     "text": [
      "For start 61040 and end 61440, there is no time-overlapping row.\n"
     ]
    },
    {
     "name": "stderr",
     "output_type": "stream",
     "text": [
      "/Users/jiayanli/Documents/project/code/keyword-spotting/prepare_data.py:26: UserWarning: Boolean Series key will be reindexed to match DataFrame index.\n",
      "  df_pos = df_label[df_label['start_sample'] >= start_sample][df_label['end_sample'] <= end_sample]\n",
      "/Users/jiayanli/Documents/project/code/keyword-spotting/prepare_data.py:26: UserWarning: Boolean Series key will be reindexed to match DataFrame index.\n",
      "  df_pos = df_label[df_label['start_sample'] >= start_sample][df_label['end_sample'] <= end_sample]\n"
     ]
    },
    {
     "name": "stdout",
     "output_type": "stream",
     "text": [
      "For start 46800 and end 47200, there is no time-overlapping row.\n",
      "For start 59200 and end 59600, there is no time-overlapping row.\n",
      "For start 36960 and end 37360, there is no time-overlapping row.\n"
     ]
    },
    {
     "name": "stderr",
     "output_type": "stream",
     "text": [
      "/Users/jiayanli/Documents/project/code/keyword-spotting/prepare_data.py:26: UserWarning: Boolean Series key will be reindexed to match DataFrame index.\n",
      "  df_pos = df_label[df_label['start_sample'] >= start_sample][df_label['end_sample'] <= end_sample]\n",
      "/Users/jiayanli/Documents/project/code/keyword-spotting/prepare_data.py:26: UserWarning: Boolean Series key will be reindexed to match DataFrame index.\n",
      "  df_pos = df_label[df_label['start_sample'] >= start_sample][df_label['end_sample'] <= end_sample]\n",
      "/Users/jiayanli/Documents/project/code/keyword-spotting/prepare_data.py:26: UserWarning: Boolean Series key will be reindexed to match DataFrame index.\n",
      "  df_pos = df_label[df_label['start_sample'] >= start_sample][df_label['end_sample'] <= end_sample]\n"
     ]
    },
    {
     "name": "stdout",
     "output_type": "stream",
     "text": [
      "For start 49040 and end 49440, there is no time-overlapping row.\n",
      "For start 62960 and end 63360, there is no time-overlapping row.\n"
     ]
    },
    {
     "name": "stderr",
     "output_type": "stream",
     "text": [
      "/Users/jiayanli/Documents/project/code/keyword-spotting/prepare_data.py:26: UserWarning: Boolean Series key will be reindexed to match DataFrame index.\n",
      "  df_pos = df_label[df_label['start_sample'] >= start_sample][df_label['end_sample'] <= end_sample]\n",
      "/Users/jiayanli/Documents/project/code/keyword-spotting/prepare_data.py:26: UserWarning: Boolean Series key will be reindexed to match DataFrame index.\n",
      "  df_pos = df_label[df_label['start_sample'] >= start_sample][df_label['end_sample'] <= end_sample]\n"
     ]
    },
    {
     "data": {
      "text/plain": [
       "[47,\n",
       " 46,\n",
       " 48,\n",
       " 46,\n",
       " 46,\n",
       " 60,\n",
       " 58,\n",
       " 40,\n",
       " 45,\n",
       " 60,\n",
       " 38,\n",
       " 53,\n",
       " 53,\n",
       " 39,\n",
       " 50,\n",
       " 51,\n",
       " 40,\n",
       " 38,\n",
       " 83,\n",
       " 48,\n",
       " 62,\n",
       " 67,\n",
       " 45,\n",
       " 72,\n",
       " 46,\n",
       " 47,\n",
       " 52,\n",
       " 46]"
      ]
     },
     "execution_count": 33,
     "metadata": {},
     "output_type": "execute_result"
    }
   ],
   "source": [
    "get_all_frame_amount()"
   ]
  },
  {
   "cell_type": "code",
   "execution_count": 16,
   "metadata": {},
   "outputs": [
    {
     "name": "stdout",
     "output_type": "stream",
     "text": [
      "For start 51600 and end 52000, there is no time-overlapping row.\n"
     ]
    }
   ],
   "source": [
    "df_label = get_label_df(TEST_PHN_PATH, TEST_WAV_PATH)"
   ]
  },
  {
   "cell_type": "code",
   "execution_count": 13,
   "metadata": {},
   "outputs": [
    {
     "data": {
      "text/html": [
       "<div>\n",
       "<style scoped>\n",
       "    .dataframe tbody tr th:only-of-type {\n",
       "        vertical-align: middle;\n",
       "    }\n",
       "\n",
       "    .dataframe tbody tr th {\n",
       "        vertical-align: top;\n",
       "    }\n",
       "\n",
       "    .dataframe thead th {\n",
       "        text-align: right;\n",
       "    }\n",
       "</style>\n",
       "<table border=\"1\" class=\"dataframe\">\n",
       "  <thead>\n",
       "    <tr style=\"text-align: right;\">\n",
       "      <th></th>\n",
       "      <th>start_sample</th>\n",
       "      <th>end_sample</th>\n",
       "      <th>word</th>\n",
       "      <th>diff_sample</th>\n",
       "    </tr>\n",
       "  </thead>\n",
       "  <tbody>\n",
       "    <tr>\n",
       "      <th>0</th>\n",
       "      <td>2230</td>\n",
       "      <td>8981</td>\n",
       "      <td>somehow</td>\n",
       "      <td>6751</td>\n",
       "    </tr>\n",
       "    <tr>\n",
       "      <th>1</th>\n",
       "      <td>8981</td>\n",
       "      <td>11446</td>\n",
       "      <td>we</td>\n",
       "      <td>2465</td>\n",
       "    </tr>\n",
       "    <tr>\n",
       "      <th>2</th>\n",
       "      <td>12281</td>\n",
       "      <td>15390</td>\n",
       "      <td>old</td>\n",
       "      <td>3109</td>\n",
       "    </tr>\n",
       "    <tr>\n",
       "      <th>3</th>\n",
       "      <td>15390</td>\n",
       "      <td>21624</td>\n",
       "      <td>timers</td>\n",
       "      <td>6234</td>\n",
       "    </tr>\n",
       "    <tr>\n",
       "      <th>4</th>\n",
       "      <td>22000</td>\n",
       "      <td>25531</td>\n",
       "      <td>never</td>\n",
       "      <td>3531</td>\n",
       "    </tr>\n",
       "    <tr>\n",
       "      <th>5</th>\n",
       "      <td>25531</td>\n",
       "      <td>31289</td>\n",
       "      <td>figured</td>\n",
       "      <td>5758</td>\n",
       "    </tr>\n",
       "    <tr>\n",
       "      <th>6</th>\n",
       "      <td>31289</td>\n",
       "      <td>34046</td>\n",
       "      <td>we</td>\n",
       "      <td>2757</td>\n",
       "    </tr>\n",
       "    <tr>\n",
       "      <th>7</th>\n",
       "      <td>34046</td>\n",
       "      <td>36280</td>\n",
       "      <td>would</td>\n",
       "      <td>2234</td>\n",
       "    </tr>\n",
       "    <tr>\n",
       "      <th>8</th>\n",
       "      <td>36280</td>\n",
       "      <td>40689</td>\n",
       "      <td>ever</td>\n",
       "      <td>4409</td>\n",
       "    </tr>\n",
       "    <tr>\n",
       "      <th>9</th>\n",
       "      <td>40689</td>\n",
       "      <td>48840</td>\n",
       "      <td>retire</td>\n",
       "      <td>8151</td>\n",
       "    </tr>\n",
       "  </tbody>\n",
       "</table>\n",
       "</div>"
      ],
      "text/plain": [
       "   start_sample  end_sample     word  diff_sample\n",
       "0          2230        8981  somehow         6751\n",
       "1          8981       11446       we         2465\n",
       "2         12281       15390      old         3109\n",
       "3         15390       21624   timers         6234\n",
       "4         22000       25531    never         3531\n",
       "5         25531       31289  figured         5758\n",
       "6         31289       34046       we         2757\n",
       "7         34046       36280    would         2234\n",
       "8         36280       40689     ever         4409\n",
       "9         40689       48840   retire         8151"
      ]
     },
     "execution_count": 13,
     "metadata": {},
     "output_type": "execute_result"
    }
   ],
   "source": [
    "df_word = load_data(TEST_WRD_PATH, \"word\")\n",
    "df_word"
   ]
  },
  {
   "cell_type": "code",
   "execution_count": 14,
   "metadata": {},
   "outputs": [
    {
     "data": {
      "text/html": [
       "<div>\n",
       "<style scoped>\n",
       "    .dataframe tbody tr th:only-of-type {\n",
       "        vertical-align: middle;\n",
       "    }\n",
       "\n",
       "    .dataframe tbody tr th {\n",
       "        vertical-align: top;\n",
       "    }\n",
       "\n",
       "    .dataframe thead th {\n",
       "        text-align: right;\n",
       "    }\n",
       "</style>\n",
       "<table border=\"1\" class=\"dataframe\">\n",
       "  <thead>\n",
       "    <tr style=\"text-align: right;\">\n",
       "      <th></th>\n",
       "      <th>start_sample</th>\n",
       "      <th>end_sample</th>\n",
       "      <th>word</th>\n",
       "      <th>diff_sample</th>\n",
       "    </tr>\n",
       "  </thead>\n",
       "  <tbody>\n",
       "    <tr>\n",
       "      <th>4</th>\n",
       "      <td>22000</td>\n",
       "      <td>25531</td>\n",
       "      <td>never</td>\n",
       "      <td>3531</td>\n",
       "    </tr>\n",
       "  </tbody>\n",
       "</table>\n",
       "</div>"
      ],
      "text/plain": [
       "   start_sample  end_sample   word  diff_sample\n",
       "4         22000       25531  never         3531"
      ]
     },
     "execution_count": 14,
     "metadata": {},
     "output_type": "execute_result"
    }
   ],
   "source": [
    "df_word[df_word['word'] == 'never']"
   ]
  },
  {
   "cell_type": "code",
   "execution_count": 15,
   "metadata": {},
   "outputs": [
    {
     "data": {
      "text/plain": [
       "(22000, 25531)"
      ]
     },
     "execution_count": 15,
     "metadata": {},
     "output_type": "execute_result"
    }
   ],
   "source": [
    "start_sample = df_word[df_word['word'] == 'never']['start_sample'].values[0]\n",
    "end_sample = df_word[df_word['word'] == 'never']['end_sample'].values[0]\n",
    "start_sample, end_sample"
   ]
  },
  {
   "cell_type": "code",
   "execution_count": 18,
   "metadata": {},
   "outputs": [
    {
     "name": "stderr",
     "output_type": "stream",
     "text": [
      "/var/folders/fz/1tmf9syn6590frrp8t6xkgpm0000gn/T/ipykernel_93306/3346229209.py:2: UserWarning: Boolean Series key will be reindexed to match DataFrame index.\n",
      "  df_pos = df_label[df_label['start_sample'] >= start_sample][df_label['end_sample'] <= end_sample]\n"
     ]
    }
   ],
   "source": [
    "# identify the frames that have the word 'never'\n",
    "df_pos = df_label[df_label['start_sample'] >= start_sample][df_label['end_sample'] <= end_sample]"
   ]
  },
  {
   "cell_type": "code",
   "execution_count": 19,
   "metadata": {},
   "outputs": [
    {
     "data": {
      "text/plain": [
       "40"
      ]
     },
     "execution_count": 19,
     "metadata": {},
     "output_type": "execute_result"
    }
   ],
   "source": [
    "len(df_pos)"
   ]
  },
  {
   "cell_type": "code",
   "execution_count": 16,
   "metadata": {},
   "outputs": [],
   "source": [
    "df = process_all_prompts()"
   ]
  },
  {
   "cell_type": "code",
   "execution_count": 17,
   "metadata": {},
   "outputs": [
    {
     "data": {
      "text/plain": [
       "(2342, 8)"
      ]
     },
     "execution_count": 17,
     "metadata": {},
     "output_type": "execute_result"
    }
   ],
   "source": [
    "df.shape"
   ]
  },
  {
   "cell_type": "code",
   "execution_count": 18,
   "metadata": {},
   "outputs": [
    {
     "data": {
      "text/html": [
       "<div>\n",
       "<style scoped>\n",
       "    .dataframe tbody tr th:only-of-type {\n",
       "        vertical-align: middle;\n",
       "    }\n",
       "\n",
       "    .dataframe tbody tr th {\n",
       "        vertical-align: top;\n",
       "    }\n",
       "\n",
       "    .dataframe thead th {\n",
       "        text-align: right;\n",
       "    }\n",
       "</style>\n",
       "<table border=\"1\" class=\"dataframe\">\n",
       "  <thead>\n",
       "    <tr style=\"text-align: right;\">\n",
       "      <th></th>\n",
       "      <th>prompt</th>\n",
       "      <th>prompt_id</th>\n",
       "      <th>file_count</th>\n",
       "      <th>contain_keyword</th>\n",
       "      <th>n</th>\n",
       "      <th>eh</th>\n",
       "      <th>v</th>\n",
       "      <th>axr</th>\n",
       "    </tr>\n",
       "  </thead>\n",
       "  <tbody>\n",
       "    <tr>\n",
       "      <th>0</th>\n",
       "      <td>She had your dark suit in greasy wash water al...</td>\n",
       "      <td>sa1</td>\n",
       "      <td>630</td>\n",
       "      <td>False</td>\n",
       "      <td>0</td>\n",
       "      <td>1</td>\n",
       "      <td>0</td>\n",
       "      <td>2</td>\n",
       "    </tr>\n",
       "    <tr>\n",
       "      <th>1</th>\n",
       "      <td>Don't ask me to carry an oily rag like that.</td>\n",
       "      <td>sa2</td>\n",
       "      <td>630</td>\n",
       "      <td>False</td>\n",
       "      <td>1</td>\n",
       "      <td>1</td>\n",
       "      <td>0</td>\n",
       "      <td>0</td>\n",
       "    </tr>\n",
       "    <tr>\n",
       "      <th>2</th>\n",
       "      <td>This was easy for us.</td>\n",
       "      <td>sx3</td>\n",
       "      <td>7</td>\n",
       "      <td>False</td>\n",
       "      <td>0</td>\n",
       "      <td>0</td>\n",
       "      <td>0</td>\n",
       "      <td>0</td>\n",
       "    </tr>\n",
       "    <tr>\n",
       "      <th>3</th>\n",
       "      <td>Jane may earn more money by working hard.</td>\n",
       "      <td>sx4</td>\n",
       "      <td>7</td>\n",
       "      <td>False</td>\n",
       "      <td>3</td>\n",
       "      <td>0</td>\n",
       "      <td>0</td>\n",
       "      <td>0</td>\n",
       "    </tr>\n",
       "    <tr>\n",
       "      <th>4</th>\n",
       "      <td>She is thinner than I am.</td>\n",
       "      <td>sx5</td>\n",
       "      <td>7</td>\n",
       "      <td>False</td>\n",
       "      <td>2</td>\n",
       "      <td>1</td>\n",
       "      <td>0</td>\n",
       "      <td>0</td>\n",
       "    </tr>\n",
       "  </tbody>\n",
       "</table>\n",
       "</div>"
      ],
      "text/plain": [
       "                                              prompt prompt_id  file_count  \\\n",
       "0  She had your dark suit in greasy wash water al...       sa1         630   \n",
       "1       Don't ask me to carry an oily rag like that.       sa2         630   \n",
       "2                              This was easy for us.       sx3           7   \n",
       "3          Jane may earn more money by working hard.       sx4           7   \n",
       "4                          She is thinner than I am.       sx5           7   \n",
       "\n",
       "   contain_keyword  n  eh  v  axr  \n",
       "0            False  0   1  0    2  \n",
       "1            False  1   1  0    0  \n",
       "2            False  0   0  0    0  \n",
       "3            False  3   0  0    0  \n",
       "4            False  2   1  0    0  "
      ]
     },
     "execution_count": 18,
     "metadata": {},
     "output_type": "execute_result"
    }
   ],
   "source": [
    "df.head()"
   ]
  },
  {
   "cell_type": "code",
   "execution_count": 22,
   "metadata": {},
   "outputs": [
    {
     "data": {
      "text/plain": [
       "57"
      ]
     },
     "execution_count": 22,
     "metadata": {},
     "output_type": "execute_result"
    }
   ],
   "source": [
    "pos_audio_path = get_all_paths('never', 'wav')\n",
    "len(pos_audio_path)"
   ]
  },
  {
   "cell_type": "code",
   "execution_count": 29,
   "metadata": {},
   "outputs": [],
   "source": [
    "dataset = get_train_test_paths(rerun=True)"
   ]
  },
  {
   "cell_type": "code",
   "execution_count": 34,
   "metadata": {},
   "outputs": [
    {
     "data": {
      "text/plain": [
       "dict_keys(['train', 'test'])"
      ]
     },
     "execution_count": 34,
     "metadata": {},
     "output_type": "execute_result"
    }
   ],
   "source": [
    "dataset.keys()"
   ]
  },
  {
   "cell_type": "code",
   "execution_count": 37,
   "metadata": {},
   "outputs": [
    {
     "data": {
      "text/plain": [
       "28"
      ]
     },
     "execution_count": 37,
     "metadata": {},
     "output_type": "execute_result"
    }
   ],
   "source": [
    "len(dataset['train'])"
   ]
  },
  {
   "cell_type": "code",
   "execution_count": 38,
   "metadata": {},
   "outputs": [
    {
     "data": {
      "text/plain": [
       "('timit/data/TRAIN/DR2/FMMH0/SI907.WAV',\n",
       " 'timit/data/TRAIN/DR2/FMMH0/SI907.PHN')"
      ]
     },
     "execution_count": 38,
     "metadata": {},
     "output_type": "execute_result"
    }
   ],
   "source": [
    "dataset['train'][0]"
   ]
  }
 ],
 "metadata": {
  "kernelspec": {
   "display_name": "ml",
   "language": "python",
   "name": "python3"
  },
  "language_info": {
   "codemirror_mode": {
    "name": "ipython",
    "version": 3
   },
   "file_extension": ".py",
   "mimetype": "text/x-python",
   "name": "python",
   "nbconvert_exporter": "python",
   "pygments_lexer": "ipython3",
   "version": "3.9.19"
  }
 },
 "nbformat": 4,
 "nbformat_minor": 2
}
