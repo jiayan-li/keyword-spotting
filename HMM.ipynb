{
 "cells": [
  {
   "cell_type": "code",
   "execution_count": 53,
   "metadata": {},
   "outputs": [
    {
     "name": "stdout",
     "output_type": "stream",
     "text": [
      "The autoreload extension is already loaded. To reload it, use:\n",
      "  %reload_ext autoreload\n"
     ]
    }
   ],
   "source": [
    "%load_ext autoreload\n",
    "%autoreload 2"
   ]
  },
  {
   "cell_type": "code",
   "execution_count": 54,
   "metadata": {},
   "outputs": [],
   "source": [
    "from HMM import get_highest_prob_df, plot_highest_prob, calculate_metrics\n",
    "from prepare_data import batch_matrix_train\n",
    "from get_prob import main\n",
    "import numpy as np"
   ]
  },
  {
   "cell_type": "code",
   "execution_count": 134,
   "metadata": {},
   "outputs": [
    {
     "name": "stdout",
     "output_type": "stream",
     "text": [
      "For start 45760 and end 46160, there is no time-overlapping row.\n",
      "Caution: There is no time-overlapping rows for start 45760 and end 46160\n",
      "For start 45760 and end 46160, there is no time-overlapping row.\n",
      "For start 65120 and end 65520, there is no time-overlapping row.\n",
      "Caution: There is no time-overlapping rows for start 65120 and end 65520\n",
      "For start 65120 and end 65520, there is no time-overlapping row.\n",
      "For start 35440 and end 35840, there is no time-overlapping row.\n",
      "Caution: There is no time-overlapping rows for start 35440 and end 35840\n",
      "For start 35440 and end 35840, there is no time-overlapping row.\n",
      "For start 42480 and end 42880, there is no time-overlapping row.\n",
      "Caution: There is no time-overlapping rows for start 42480 and end 42880\n",
      "For start 42480 and end 42880, there is no time-overlapping row.\n",
      "For start 49040 and end 49440, there is no time-overlapping row.\n",
      "Caution: There is no time-overlapping rows for start 49040 and end 49440\n",
      "For start 49040 and end 49440, there is no time-overlapping row.\n",
      "For start 59200 and end 59600, there is no time-overlapping row.\n",
      "Caution: There is no time-overlapping rows for start 59200 and end 59600\n",
      "For start 59200 and end 59600, there is no time-overlapping row.\n",
      "For start 61040 and end 61440, there is no time-overlapping row.\n",
      "Caution: There is no time-overlapping rows for start 61040 and end 61440\n",
      "For start 61040 and end 61440, there is no time-overlapping row.\n",
      "For start 39840 and end 40240, there is no time-overlapping row.\n",
      "Caution: There is no time-overlapping rows for start 39840 and end 40240\n",
      "For start 39840 and end 40240, there is no time-overlapping row.\n",
      "For start 46800 and end 47200, there is no time-overlapping row.\n",
      "Caution: There is no time-overlapping rows for start 46800 and end 47200\n",
      "For start 46800 and end 47200, there is no time-overlapping row.\n",
      "For start 60640 and end 61040, there is no time-overlapping row.\n",
      "Caution: There is no time-overlapping rows for start 60640 and end 61040\n",
      "For start 60640 and end 61040, there is no time-overlapping row.\n",
      "For start 56240 and end 56640, there is no time-overlapping row.\n",
      "Caution: There is no time-overlapping rows for start 56240 and end 56640\n",
      "For start 56240 and end 56640, there is no time-overlapping row.\n",
      "For start 52240 and end 52640, there is no time-overlapping row.\n",
      "Caution: There is no time-overlapping rows for start 52240 and end 52640\n",
      "For start 52240 and end 52640, there is no time-overlapping row.\n"
     ]
    },
    {
     "data": {
      "text/html": [
       "<div>\n",
       "<style scoped>\n",
       "    .dataframe tbody tr th:only-of-type {\n",
       "        vertical-align: middle;\n",
       "    }\n",
       "\n",
       "    .dataframe tbody tr th {\n",
       "        vertical-align: top;\n",
       "    }\n",
       "\n",
       "    .dataframe thead th {\n",
       "        text-align: right;\n",
       "    }\n",
       "</style>\n",
       "<table border=\"1\" class=\"dataframe\">\n",
       "  <thead>\n",
       "    <tr style=\"text-align: right;\">\n",
       "      <th></th>\n",
       "      <th>input</th>\n",
       "      <th>emission_matrix</th>\n",
       "      <th>label</th>\n",
       "      <th>path</th>\n",
       "      <th>highest_prob</th>\n",
       "      <th>prob_matrix</th>\n",
       "    </tr>\n",
       "  </thead>\n",
       "  <tbody>\n",
       "    <tr>\n",
       "      <th>0</th>\n",
       "      <td>timit/data/TRAIN/DR5/FKKH0/SX210.WAV</td>\n",
       "      <td>[[-23.025850929940457, -23.025850929940457, -2...</td>\n",
       "      <td>0</td>\n",
       "      <td>[3, 3, 3, 3, 3, 3, 3, 3, 3, 3, 3, 3, 3, 3, 3, ...</td>\n",
       "      <td>-1395.537752</td>\n",
       "      <td>[[-26.66124576157611, -26.672398293526587, -26...</td>\n",
       "    </tr>\n",
       "    <tr>\n",
       "      <th>1</th>\n",
       "      <td>timit/data/TRAIN/DR5/FKKH0/SX210.WAV</td>\n",
       "      <td>[[-23.025850929940457, -23.025850929940457, -2...</td>\n",
       "      <td>0</td>\n",
       "      <td>[3, 3, 3, 3, 3, 3, 3, 3, 3, 3, 3, 3, 3, 3, 3, ...</td>\n",
       "      <td>-1395.537752</td>\n",
       "      <td>[[-26.66124576157611, -26.672398293526587, -26...</td>\n",
       "    </tr>\n",
       "    <tr>\n",
       "      <th>2</th>\n",
       "      <td>timit/data/TRAIN/DR5/FKKH0/SX210.WAV</td>\n",
       "      <td>[[-23.025850929940457, -23.025850929940457, -2...</td>\n",
       "      <td>0</td>\n",
       "      <td>[3, 3, 3, 3, 3, 3, 3, 3, 3, 3, 3, 3, 3, 3, 3, ...</td>\n",
       "      <td>-1395.537752</td>\n",
       "      <td>[[-26.66124576157611, -26.672398293526587, -26...</td>\n",
       "    </tr>\n",
       "    <tr>\n",
       "      <th>3</th>\n",
       "      <td>timit/data/TRAIN/DR5/FKKH0/SX210.WAV</td>\n",
       "      <td>[[-23.025850929940457, -23.025850929940457, -2...</td>\n",
       "      <td>0</td>\n",
       "      <td>[3, 3, 3, 3, 3, 3, 4, 4, 4, 4, 4, 5, 5, 5, 5, ...</td>\n",
       "      <td>-391.377969</td>\n",
       "      <td>[[-26.66124576157611, -26.672398293526587, -4....</td>\n",
       "    </tr>\n",
       "    <tr>\n",
       "      <th>4</th>\n",
       "      <td>timit/data/TRAIN/DR5/FKKH0/SX210.WAV</td>\n",
       "      <td>[[-23.025850929940457, -23.025850929940457, -2...</td>\n",
       "      <td>0</td>\n",
       "      <td>[3, 3, 3, 3, 3, 3, 3, 3, 3, 3, 3, 3, 3, 3, 3, ...</td>\n",
       "      <td>-1395.537752</td>\n",
       "      <td>[[-26.66124576157611, -26.672398293526587, -26...</td>\n",
       "    </tr>\n",
       "    <tr>\n",
       "      <th>...</th>\n",
       "      <td>...</td>\n",
       "      <td>...</td>\n",
       "      <td>...</td>\n",
       "      <td>...</td>\n",
       "      <td>...</td>\n",
       "      <td>...</td>\n",
       "    </tr>\n",
       "    <tr>\n",
       "      <th>695</th>\n",
       "      <td>timit/data/TRAIN/DR7/FLEH0/SX61.WAV</td>\n",
       "      <td>[[-23.025850929940457, -23.025850929940457, -2...</td>\n",
       "      <td>1</td>\n",
       "      <td>[0, 0, 0, 0, 0, 0, 0, 0, 0, 0, 0, 0, 0, 1, 1, ...</td>\n",
       "      <td>-246.970847</td>\n",
       "      <td>[[-26.66124576157611, -26.672398293526587, -26...</td>\n",
       "    </tr>\n",
       "    <tr>\n",
       "      <th>696</th>\n",
       "      <td>timit/data/TRAIN/DR7/FLEH0/SX61.WAV</td>\n",
       "      <td>[[-23.025850929940457, -23.025850929940457, -2...</td>\n",
       "      <td>1</td>\n",
       "      <td>[0, 0, 0, 0, 0, 0, 0, 0, 0, 0, 0, 0, 1, 1, 2, ...</td>\n",
       "      <td>-247.047937</td>\n",
       "      <td>[[-26.66124576157611, -26.672398293526587, -26...</td>\n",
       "    </tr>\n",
       "    <tr>\n",
       "      <th>697</th>\n",
       "      <td>timit/data/TRAIN/DR7/FLEH0/SX61.WAV</td>\n",
       "      <td>[[-23.025850929940457, -23.025850929940457, -2...</td>\n",
       "      <td>1</td>\n",
       "      <td>[0, 0, 0, 0, 0, 0, 0, 0, 0, 0, 0, 1, 1, 2, 2, ...</td>\n",
       "      <td>-247.461499</td>\n",
       "      <td>[[-26.66124576157611, -26.672398293526587, -26...</td>\n",
       "    </tr>\n",
       "    <tr>\n",
       "      <th>698</th>\n",
       "      <td>timit/data/TRAIN/DR7/FLEH0/SX61.WAV</td>\n",
       "      <td>[[-23.025850929940457, -23.025850929940457, -2...</td>\n",
       "      <td>1</td>\n",
       "      <td>[0, 0, 0, 0, 0, 0, 0, 0, 0, 0, 1, 1, 2, 2, 2, ...</td>\n",
       "      <td>-248.218145</td>\n",
       "      <td>[[-26.66124576157611, -26.672398293526587, -26...</td>\n",
       "    </tr>\n",
       "    <tr>\n",
       "      <th>699</th>\n",
       "      <td>timit/data/TRAIN/DR7/FLEH0/SX61.WAV</td>\n",
       "      <td>[[-23.025850929940457, -23.025850929940457, -2...</td>\n",
       "      <td>1</td>\n",
       "      <td>[0, 0, 0, 0, 0, 0, 0, 0, 0, 1, 1, 2, 2, 2, 3, ...</td>\n",
       "      <td>-249.284032</td>\n",
       "      <td>[[-26.66124576157611, -26.672398293526587, -26...</td>\n",
       "    </tr>\n",
       "  </tbody>\n",
       "</table>\n",
       "<p>700 rows × 6 columns</p>\n",
       "</div>"
      ],
      "text/plain": [
       "                                    input  \\\n",
       "0    timit/data/TRAIN/DR5/FKKH0/SX210.WAV   \n",
       "1    timit/data/TRAIN/DR5/FKKH0/SX210.WAV   \n",
       "2    timit/data/TRAIN/DR5/FKKH0/SX210.WAV   \n",
       "3    timit/data/TRAIN/DR5/FKKH0/SX210.WAV   \n",
       "4    timit/data/TRAIN/DR5/FKKH0/SX210.WAV   \n",
       "..                                    ...   \n",
       "695   timit/data/TRAIN/DR7/FLEH0/SX61.WAV   \n",
       "696   timit/data/TRAIN/DR7/FLEH0/SX61.WAV   \n",
       "697   timit/data/TRAIN/DR7/FLEH0/SX61.WAV   \n",
       "698   timit/data/TRAIN/DR7/FLEH0/SX61.WAV   \n",
       "699   timit/data/TRAIN/DR7/FLEH0/SX61.WAV   \n",
       "\n",
       "                                       emission_matrix  label  \\\n",
       "0    [[-23.025850929940457, -23.025850929940457, -2...      0   \n",
       "1    [[-23.025850929940457, -23.025850929940457, -2...      0   \n",
       "2    [[-23.025850929940457, -23.025850929940457, -2...      0   \n",
       "3    [[-23.025850929940457, -23.025850929940457, -2...      0   \n",
       "4    [[-23.025850929940457, -23.025850929940457, -2...      0   \n",
       "..                                                 ...    ...   \n",
       "695  [[-23.025850929940457, -23.025850929940457, -2...      1   \n",
       "696  [[-23.025850929940457, -23.025850929940457, -2...      1   \n",
       "697  [[-23.025850929940457, -23.025850929940457, -2...      1   \n",
       "698  [[-23.025850929940457, -23.025850929940457, -2...      1   \n",
       "699  [[-23.025850929940457, -23.025850929940457, -2...      1   \n",
       "\n",
       "                                                  path highest_prob  \\\n",
       "0    [3, 3, 3, 3, 3, 3, 3, 3, 3, 3, 3, 3, 3, 3, 3, ... -1395.537752   \n",
       "1    [3, 3, 3, 3, 3, 3, 3, 3, 3, 3, 3, 3, 3, 3, 3, ... -1395.537752   \n",
       "2    [3, 3, 3, 3, 3, 3, 3, 3, 3, 3, 3, 3, 3, 3, 3, ... -1395.537752   \n",
       "3    [3, 3, 3, 3, 3, 3, 4, 4, 4, 4, 4, 5, 5, 5, 5, ...  -391.377969   \n",
       "4    [3, 3, 3, 3, 3, 3, 3, 3, 3, 3, 3, 3, 3, 3, 3, ... -1395.537752   \n",
       "..                                                 ...          ...   \n",
       "695  [0, 0, 0, 0, 0, 0, 0, 0, 0, 0, 0, 0, 0, 1, 1, ...  -246.970847   \n",
       "696  [0, 0, 0, 0, 0, 0, 0, 0, 0, 0, 0, 0, 1, 1, 2, ...  -247.047937   \n",
       "697  [0, 0, 0, 0, 0, 0, 0, 0, 0, 0, 0, 1, 1, 2, 2, ...  -247.461499   \n",
       "698  [0, 0, 0, 0, 0, 0, 0, 0, 0, 0, 1, 1, 2, 2, 2, ...  -248.218145   \n",
       "699  [0, 0, 0, 0, 0, 0, 0, 0, 0, 1, 1, 2, 2, 2, 3, ...  -249.284032   \n",
       "\n",
       "                                           prob_matrix  \n",
       "0    [[-26.66124576157611, -26.672398293526587, -26...  \n",
       "1    [[-26.66124576157611, -26.672398293526587, -26...  \n",
       "2    [[-26.66124576157611, -26.672398293526587, -26...  \n",
       "3    [[-26.66124576157611, -26.672398293526587, -4....  \n",
       "4    [[-26.66124576157611, -26.672398293526587, -26...  \n",
       "..                                                 ...  \n",
       "695  [[-26.66124576157611, -26.672398293526587, -26...  \n",
       "696  [[-26.66124576157611, -26.672398293526587, -26...  \n",
       "697  [[-26.66124576157611, -26.672398293526587, -26...  \n",
       "698  [[-26.66124576157611, -26.672398293526587, -26...  \n",
       "699  [[-26.66124576157611, -26.672398293526587, -26...  \n",
       "\n",
       "[700 rows x 6 columns]"
      ]
     },
     "execution_count": 134,
     "metadata": {},
     "output_type": "execute_result"
    }
   ],
   "source": [
    "df_train = get_highest_prob_df()\n",
    "df_train"
   ]
  },
  {
   "cell_type": "code",
   "execution_count": 135,
   "metadata": {},
   "outputs": [
    {
     "data": {
      "image/png": "[encoded data removed]",
      "text/plain": [
       "<Figure size 640x480 with 1 Axes>"
      ]
     },
     "metadata": {},
     "output_type": "display_data"
    }
   ],
   "source": [
    "plot_highest_prob(df_train)"
   ]
  },
  {
   "cell_type": "code",
   "execution_count": 138,
   "metadata": {},
   "outputs": [
    {
     "name": "stdout",
     "output_type": "stream",
     "text": [
      "pred_label  False  True \n",
      "label                   \n",
      "0             510     45\n",
      "1               8    137\n"
     ]
    },
    {
     "data": {
      "text/plain": [
       "{'precision': 0.7527472527472527,\n",
       " 'recall': 0.9448275862068966,\n",
       " 'f1_score': 0.8379204892966361}"
      ]
     },
     "execution_count": 138,
     "metadata": {},
     "output_type": "execute_result"
    }
   ],
   "source": [
    "calculate_metrics(-600, df_train)"
   ]
  },
  {
   "cell_type": "code",
   "execution_count": 55,
   "metadata": {},
   "outputs": [
    {
     "name": "stdout",
     "output_type": "stream",
     "text": [
      "For start 36960 and end 37360, there is no time-overlapping row.\n",
      "For start 45760 and end 46160, there is no time-overlapping row.\n",
      "For start 62960 and end 63360, there is no time-overlapping row.\n",
      "For start 31760 and end 32160, there is no time-overlapping row.\n",
      "For start 0 and end 400, there is no time-overlapping row.\n",
      "For start 80 and end 480, there is no time-overlapping row.\n",
      "For start 160 and end 560, there is no time-overlapping row.\n",
      "For start 240 and end 640, there is no time-overlapping row.\n",
      "For start 320 and end 720, there is no time-overlapping row.\n",
      "For start 400 and end 800, there is no time-overlapping row.\n",
      "For start 480 and end 880, there is no time-overlapping row.\n",
      "For start 560 and end 960, there is no time-overlapping row.\n",
      "For start 640 and end 1040, there is no time-overlapping row.\n",
      "For start 720 and end 1120, there is no time-overlapping row.\n",
      "For start 800 and end 1200, there is no time-overlapping row.\n",
      "For start 880 and end 1280, there is no time-overlapping row.\n",
      "For start 960 and end 1360, there is no time-overlapping row.\n",
      "For start 1040 and end 1440, there is no time-overlapping row.\n",
      "For start 1120 and end 1520, there is no time-overlapping row.\n",
      "For start 1200 and end 1600, there is no time-overlapping row.\n",
      "For start 1280 and end 1680, there is no time-overlapping row.\n",
      "For start 1360 and end 1760, there is no time-overlapping row.\n",
      "For start 1440 and end 1840, there is no time-overlapping row.\n",
      "For start 1520 and end 1920, there is no time-overlapping row.\n",
      "For start 1600 and end 2000, there is no time-overlapping row.\n",
      "For start 1680 and end 2080, there is no time-overlapping row.\n",
      "For start 1760 and end 2160, there is no time-overlapping row.\n",
      "For start 1840 and end 2240, there is no time-overlapping row.\n",
      "For start 1920 and end 2320, there is no time-overlapping row.\n",
      "For start 2000 and end 2400, there is no time-overlapping row.\n",
      "For start 43840 and end 44240, there is no time-overlapping row.\n",
      "For start 51600 and end 52000, there is no time-overlapping row.\n",
      "For start 56240 and end 56640, there is no time-overlapping row.\n"
     ]
    }
   ],
   "source": [
    "df_test = get_highest_prob_df(keras_model=True, dataset_type=\"test\")"
   ]
  },
  {
   "cell_type": "code",
   "execution_count": null,
   "metadata": {},
   "outputs": [],
   "source": [
    "df_test_torch = get_highest_prob_df(keras_model=False, dataset_type=\"test\")"
   ]
  },
  {
   "cell_type": "code",
   "execution_count": 56,
   "metadata": {},
   "outputs": [
    {
     "data": {
      "image/png": "[encoded data removed]",
      "text/plain": [
       "<Figure size 640x480 with 1 Axes>"
      ]
     },
     "metadata": {},
     "output_type": "display_data"
    }
   ],
   "source": [
    "plot_highest_prob(df_test)"
   ]
  },
  {
   "cell_type": "code",
   "execution_count": 26,
   "metadata": {},
   "outputs": [
    {
     "name": "stdout",
     "output_type": "stream",
     "text": [
      "pred_label  False  True \n",
      "label                   \n",
      "0             258    314\n",
      "1              15    138\n"
     ]
    },
    {
     "data": {
      "text/plain": [
       "{'precision': 0.3053097345132743,\n",
       " 'recall': 0.9019607843137255,\n",
       " 'f1_score': 0.45619834710743795}"
      ]
     },
     "execution_count": 26,
     "metadata": {},
     "output_type": "execute_result"
    }
   ],
   "source": [
    "calculate_metrics(-400, df_test)"
   ]
  },
  {
   "cell_type": "code",
   "execution_count": null,
   "metadata": {},
   "outputs": [],
   "source": []
  }
 ],
 "metadata": {
  "kernelspec": {
   "display_name": "ml",
   "language": "python",
   "name": "python3"
  },
  "language_info": {
   "codemirror_mode": {
    "name": "ipython",
    "version": 3
   },
   "file_extension": ".py",
   "mimetype": "text/x-python",
   "name": "python",
   "nbconvert_exporter": "python",
   "pygments_lexer": "ipython3",
   "version": "3.9.18"
  }
 },
 "nbformat": 4,
 "nbformat_minor": 2
}
